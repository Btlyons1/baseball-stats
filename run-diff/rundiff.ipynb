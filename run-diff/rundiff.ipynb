{
 "cells": [
  {
   "cell_type": "code",
   "execution_count": null,
   "metadata": {},
   "outputs": [],
   "source": [
    "# Import libraries\n",
    "import pandas as pd\n",
    "import numpy as np\n",
    "from sklearn import linear_model\n",
    "from scipy import stats\n",
    "import matplotlib.pyplot as plt\n",
    "%matplotlib inline"
   ]
  },
  {
   "cell_type": "code",
   "execution_count": null,
   "metadata": {},
   "outputs": [],
   "source": [
    "# Run differential is a cumulative team statistic that combines offensive and defensive scoring.\n",
    "# Run differential is calculated by subtracting runs allowed from runs scored.\n",
    "# The run differential is positive if a team scores more runs than it allows, while it is negative if a team allows more runs than it scores.\n",
    "# Run differential can be used to predict the expected win total for a team.\n",
    "# The differences in records between close games and blowout games can deviate the actual win–loss record from expected record based on run differential.\n",
    "fp = \"gl2010_17/\"\n",
    "input_df = pd.read_table(fp+\"GL2017.TXT\", sep=\",\", header=None)\n"
   ]
  },
  {
   "cell_type": "code",
   "execution_count": null,
   "metadata": {},
   "outputs": [],
   "source": [
    "# Method to rename columns of an input dataframe (for readability)\n",
    "# Input type: dataframe\n",
    "# Output type: dataframe\n",
    "def rename_cols(input_df):\n",
    "    input_df.rename(columns = {0: 'Date', 2: 'Day', 3: 'Visiting Team', 4: 'League', 6: 'Home Team', 9: 'Runs Visitor', 10: 'Runs Home'}, inplace=True)\n",
    "    return input_df\n",
    "\n",
    "# Invoke function to rename columns\n",
    "input_df = rename_cols(input_df)\n",
    "\n",
    "# # Display\n",
    "input_df.head()\n"
   ]
  },
  {
   "cell_type": "code",
   "execution_count": null,
   "metadata": {},
   "outputs": [],
   "source": [
    "# Method to add new columns to indicate whether home team or visiting team won the game\n",
    "# Input type: dataframe\n",
    "# Output type: dataframe\n",
    "def add_new_cols(input_df):\n",
    "    input_df['Home Win'] = (input_df['Runs Home'] > input_df['Runs Visitor'])\n",
    "    input_df['Visitor Win'] = (input_df['Runs Visitor'] > input_df['Runs Home'])\n",
    "    return input_df\n",
    "\n",
    "# Invoke method to add new columns\n",
    "input_df = add_new_cols(input_df)\n",
    "\n",
    "# Display\n",
    "input_df.head()\n",
    "\n"
   ]
  },
  {
   "cell_type": "code",
   "execution_count": null,
   "metadata": {},
   "outputs": [],
   "source": [
    "# Method to group data by home team and compute relevant statistics\n",
    "# Input type: dataframe\n",
    "# Output type: dataframe (with stats grouped by home team)\n",
    "def proc_home_team_data(input_df):\n",
    "\n",
    "    # Group by home team\n",
    "    home_group = input_df.groupby(input_df['Home Team'])\n",
    "\n",
    "    # Compute stats: Number of games, runs scored, runs conceded, wins, run differential\n",
    "    home_df = home_group[['Runs Visitor', 'Runs Home', 'Home Win']].apply(sum)\n",
    "    home_df['Home Games'] = home_group['Home Win'].count()\n",
    "    home_df.rename(columns = {'Runs Visitor': 'Runs by Visitor', 'Runs Home': 'Runs at Home', 'Home Win': 'Wins at Home'}, inplace=True)\n",
    "    home_df['RD at Home'] = home_df['Runs at Home'] - home_df['Runs by Visitor']\n",
    "    home_df.index.rename('Team', inplace=True)\n",
    "    home_df.reset_index(inplace=True)\n",
    "\n",
    "    return home_df\n",
    "\n",
    "# Invoke method to group data by home team and compute statistics\n",
    "home_df = proc_home_team_data(input_df)\n",
    "\n",
    "# Display\n",
    "home_df.head()\n"
   ]
  },
  {
   "cell_type": "code",
   "execution_count": null,
   "metadata": {},
   "outputs": [],
   "source": [
    "# Method to group data by visiting team and compute relevant statistics\n",
    "# Input type: dataframe\n",
    "# Output type: dataframe (with stats grouped by visiting team)\n",
    "def proc_visiting_team_data(input_df):\n",
    "\n",
    "    # Group by visiting team\n",
    "    visit_group = input_df.groupby(input_df['Visiting Team'])\n",
    "\n",
    "    # Compute stats: Number of games, runs scored, runs conceded, wins, run differential\n",
    "    visit_df = visit_group[['Runs Visitor', 'Runs Home', 'Visitor Win']].apply(sum)\n",
    "    visit_df['Road Games'] = visit_group['Visitor Win'].count()\n",
    "    visit_df.rename(columns = {'Runs Visitor': 'Runs as Visitor', 'Runs Home': 'Runs by Home',\n",
    "                               'Visitor Win': 'Wins as Visitor'}, inplace=True)\n",
    "    visit_df['RD as Visitor'] = visit_df['Runs as Visitor'] - visit_df['Runs by Home']\n",
    "    visit_df.index.rename('Team', inplace=True)\n",
    "    visit_df.reset_index(inplace=True)\n",
    "\n",
    "    return visit_df\n",
    "\n",
    "# Invoke method to group data by visiting team and compute statistics\n",
    "visit_df = proc_visiting_team_data(input_df)\n",
    "\n",
    "# Display\n",
    "visit_df.head()"
   ]
  },
  {
   "cell_type": "code",
   "execution_count": null,
   "metadata": {},
   "outputs": [],
   "source": [
    "# Method to merge dataframes with statistics grouped by home and visiting teams\n",
    "# and to explicitly compute explanatory and response variables\n",
    "# Input type: dataframe, dataframe\n",
    "# Output type: dataframe\n",
    "def merge_data_frames(home_df, visit_df):\n",
    "    # Compute explanatory and response variables\n",
    "    overall_df = home_df.merge(visit_df, how='outer', left_on='Team', right_on='Team')\n",
    "    overall_df['RD'] = overall_df['RD at Home'] + overall_df['RD as Visitor']\n",
    "    overall_df['Win Pct'] = (overall_df['Wins at Home'] + overall_df['Wins as Visitor']) / (overall_df['Home Games'] + overall_df['Road Games']) * 100\n",
    "\n",
    "    # Return dataframe with explanatory and response variables\n",
    "    return overall_df\n",
    "\n",
    "# Invoke method to merge home and visitor dataframes\n",
    "overall_df = merge_data_frames(home_df, visit_df)\n",
    "\n",
    "# # Display\n",
    "overall_df.head()"
   ]
  },
  {
   "cell_type": "code",
   "execution_count": null,
   "metadata": {},
   "outputs": [],
   "source": [
    "# Method to collate all data preprocessing steps\n",
    "# Input type: dataframe\n",
    "# Output type: dataframe\n",
    "def extract_linear_reg_inputs(input_df):\n",
    "    # Rename columns\n",
    "    input_df = rename_cols(input_df)\n",
    "\n",
    "    # Add new columns\n",
    "    input_df = add_new_cols(input_df)\n",
    "\n",
    "    # Group and process data by home team\n",
    "    home_df = proc_home_team_data(input_df)\n",
    "\n",
    "    # Group and process data by visiting team\n",
    "    visit_df = proc_visiting_team_data(input_df)\n",
    "\n",
    "    # Merge home and visitor dataframes\n",
    "    overall_df = merge_data_frames(home_df, visit_df)\n",
    "\n",
    "    return overall_df"
   ]
  },
  {
   "cell_type": "code",
   "execution_count": null,
   "metadata": {},
   "outputs": [],
   "source": [
    "# Get training data from 2011-2015 to train the linear regression model\n",
    "\n",
    "# Initialize arrays to hold training data\n",
    "train_run_diff = np.empty([0, 1])\n",
    "train_win_pct = np.empty([0, 1])\n",
    "\n",
    "# Loop\n",
    "for year in range(2011, 2017):\n",
    "    # Construct log file name\n",
    "    log_file = fp+\"GL\" + str(year) + \".TXT\"\n",
    "\n",
    "    # Read log into a dataframe\n",
    "    df = pd.read_table(log_file, sep=\",\", header=None)\n",
    "\n",
    "    # Extract relevant stats into another dataframe\n",
    "    df_proc = extract_linear_reg_inputs(df)\n",
    "\n",
    "    # Add to training set\n",
    "    train_run_diff = np.vstack([train_run_diff, df_proc['RD'].values.reshape([-1, 1])])\n",
    "    train_win_pct = np.vstack([train_win_pct, df_proc['Win Pct'].values.reshape([-1, 1])])"
   ]
  },
  {
   "cell_type": "code",
   "execution_count": null,
   "metadata": {},
   "outputs": [],
   "source": [
    "lin_regr = linear_model.LinearRegression(fit_intercept=True)\n",
    "lin_regr.fit(train_run_diff, train_win_pct)\n",
    "\n",
    "# Access and display model parameters\n",
    "print(\"Slope (a) = \", float(lin_regr.coef_), \" Intercept (b) = \", float(lin_regr.intercept_))\n",
    "\n",
    "# Get regression score (R-squared)\n",
    "r_squared = lin_regr.score(train_run_diff, train_win_pct)\n",
    "print(\"R-squared for linear fit = \", r_squared)"
   ]
  },
  {
   "cell_type": "code",
   "execution_count": null,
   "metadata": {},
   "outputs": [],
   "source": [
    "# Visualize\n",
    "x_ax = np.array(range(int(np.min(train_run_diff)), int(np.max(train_run_diff)))).reshape(-1, 1)\n",
    "y_ax = lin_regr.coef_ * x_ax + lin_regr.intercept_\n",
    "plt.ylim([0.30, 0.65])\n",
    "plt.plot([0, 0], [0.30, 0.65], \"k--\")\n",
    "plt.plot([-300, 300], [0.5, 0.5], \"k--\")\n",
    "plt.plot(train_run_diff, train_win_pct, 'bo', label=\"training_data\")\n",
    "plt.plot(x_ax, y_ax, 'r', label=\"model_fit\")\n",
    "plt.xlabel(\"Run differential\")\n",
    "plt.ylabel(\"Win percentage\")\n",
    "plt.legend(loc=\"lower right\")\n",
    "plt.show()\n"
   ]
  },
  {
   "cell_type": "code",
   "execution_count": null,
   "metadata": {},
   "outputs": [],
   "source": [
    "#Construct test dataset for 2017 season\n",
    "log_file = \"./gl2010_17/GL2016.TXT\"\n",
    "df = pd.read_table(log_file, sep=',', header=None)\n",
    "df_proc = extract_linear_reg_inputs(df)\n",
    "test_run_diff = df_proc['RD'].values.reshape([-1,1])\n",
    "test_win_pct = df_proc['Win Pct'].values.reshape([-1,1])\n",
    "predict_win_pct = lin_regr.predict(test_run_diff)\n",
    "\n",
    "mean_abs_error_test = np.mean(np.abs(predict_win_pct - test_win_pct))\n",
    "print(\"Percentage error on test set = \", 100. * mean_abs_error_test, \"%\")"
   ]
  },
  {
   "cell_type": "code",
   "execution_count": null,
   "metadata": {},
   "outputs": [],
   "source": [
    "#Compute percentage error for linear regression model on training set\n",
    "model_fit_train = lin_regr.predict(train_run_diff)\n",
    "mean_abs_error_training = np.mean(np.abs(model_fit_train - train_win_pct))\n",
    "print(\"Percentage error on training set \", 100. * mean_abs_error_training)\n",
    "\n",
    "plt.plot([0.35, 0.7], [0.35, 0.7], 'r')\n",
    "plt.xlabel(\"Actual win percentage\")\n",
    "plt.ylabel(\"Predicted win percentage\")\n",
    "plt.title(\"MLB 2016 season\")\n",
    "plt.show()\n",
    "\n",
    "\n",
    "print(np.max(test_run_diff))\n",
    "# np.argmax(\n",
    "# df_proc[]"
   ]
  },
  {
   "cell_type": "code",
   "execution_count": null,
   "metadata": {},
   "outputs": [],
   "source": []
  }
 ],
 "metadata": {
  "kernelspec": {
   "display_name": "Python 3",
   "language": "python",
   "name": "python3"
  },
  "language_info": {
   "codemirror_mode": {
    "name": "ipython",
    "version": 3
   },
   "file_extension": ".py",
   "mimetype": "text/x-python",
   "name": "python",
   "nbconvert_exporter": "python",
   "pygments_lexer": "ipython3",
   "version": "3.7.1"
  }
 },
 "nbformat": 4,
 "nbformat_minor": 2
}
