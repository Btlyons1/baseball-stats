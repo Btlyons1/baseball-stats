{
 "cells": [
  {
   "cell_type": "code",
   "execution_count": null,
   "metadata": {},
   "outputs": [],
   "source": [
    "# Import libraries\n",
    "import pandas as pd\n",
    "import numpy as np\n",
    "from sklearn import linear_model\n",
    "from scipy import stats\n",
    "import matplotlib.pyplot as plt\n",
    "%matplotlib inline"
   ]
  },
  {
   "cell_type": "code",
   "execution_count": null,
   "metadata": {},
   "outputs": [],
   "source": [
    "# Run differential is a cumulative team statistic that combines offensive and defensive scoring.\n",
    "# Run differential is calculated by subtracting runs allowed from runs scored.\n",
    "# The run differential is positive if a team scores more runs than it allows, while it is negative if a team allows more runs than it scores.\n",
    "# Run differential can be used to predict the expected win total for a team.\n",
    "# The differences in records between close games and blowout games can deviate the actual win–loss record from expected record based on run differential.\n",
    "fp = \"gl2010_17/\"\n",
    "input_df = pd.read_table(fp+\"GL2017.TXT\", sep=\",\", header=None)\n"
   ]
  },
  {
   "cell_type": "code",
   "execution_count": null,
   "metadata": {},
   "outputs": [],
   "source": [
    "# Method to rename columns of an input dataframe (for readability)\n",
    "# Input type: dataframe\n",
    "# Output type: dataframe\n",
    "def rename_cols(input_df):\n",
    "    input_df.rename(columns = {0: 'Date', 2: 'Day', 3: 'Visiting Team', 4: 'League', 6: 'Home Team', 9: 'Runs Visitor', 10: 'Runs Home'}, inplace=True)\n",
    "    return input_df\n",
    "\n",
    "# Invoke function to rename columns\n",
    "input_df = rename_cols(input_df)\n",
    "\n",
    "# # Display\n",
    "input_df.head()\n"
   ]
  },
  {
   "cell_type": "code",
   "execution_count": null,
   "metadata": {},
   "outputs": [],
   "source": [
    "# Method to add new columns to indicate whether home team or visiting team won the game\n",
    "# Input type: dataframe\n",
    "# Output type: dataframe\n",
    "def add_new_cols(input_df):\n",
    "    input_df['Home Win'] = (input_df['Runs Home'] > input_df['Runs Visitor'])\n",
    "    input_df['Visitor Win'] = (input_df['Runs Visitor'] > input_df['Runs Home'])\n",
    "    return input_df\n",
    "\n",
    "# Invoke method to add new columns\n",
    "input_df = add_new_cols(input_df)\n",
    "\n",
    "# Display\n",
    "input_df.head()\n",
    "\n"
   ]
  },
  {
   "cell_type": "code",
   "execution_count": null,
   "metadata": {},
   "outputs": [],
   "source": []
  }
 ],
 "metadata": {
  "kernelspec": {
   "display_name": "Python 3",
   "language": "python",
   "name": "python3"
  },
  "language_info": {
   "codemirror_mode": {
    "name": "ipython",
    "version": 3
   },
   "file_extension": ".py",
   "mimetype": "text/x-python",
   "name": "python",
   "nbconvert_exporter": "python",
   "pygments_lexer": "ipython3",
   "version": "3.7.1"
  }
 },
 "nbformat": 4,
 "nbformat_minor": 2
}
