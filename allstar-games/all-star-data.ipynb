{
 "cells": [
  {
   "cell_type": "code",
   "execution_count": null,
   "metadata": {
    "collapsed": true
   },
   "outputs": [],
   "source": [
    "import os\n",
    "import pandas as pd\n",
    "import glob\n",
    "\n",
    "\n",
    "game_files = glob.glob(os.path.join(os.getcwd(), 'games', '*.EVE'))\n",
    "game_files.sort()\n",
    "\n",
    "game_frames = []\n",
    "for game_file in game_files:\n",
    "    game_frame = pd.read_csv(game_file, names=['type', 'multi2', 'multi3', 'multi4', 'multi5', 'multi6', 'event'])\n",
    "    game_frames.append(game_frame)\n",
    "\n",
    "games = pd.concat(game_frames)\n",
    "\n",
    "games.loc[games['multi5'] == '??', 'multi5'] = ''\n",
    "\n",
    "identifiers = games['multi2'].str.extract(r'(.LS(\\d{4})\\d{5})')\n",
    "identifiers = identifiers.fillna(method='ffill')\n",
    "identifiers.columns = ['game_id', 'year']\n",
    "\n",
    "games = pd.concat([games, identifiers], axis=1, sort=False)\n",
    "\n",
    "games = games.fillna(' ')\n",
    "\n",
    "games.loc[:, 'type'] = pd.Categorical(games.loc[:, 'type'])\n",
    "\n",
    "print(games.head())\n"
   ]
  }
 ],
 "metadata": {
  "kernelspec": {
   "display_name": "Python 2",
   "language": "python",
   "name": "python2"
  },
  "language_info": {
   "codemirror_mode": {
    "name": "ipython",
    "version": 2
   },
   "file_extension": ".py",
   "mimetype": "text/x-python",
   "name": "python",
   "nbconvert_exporter": "python",
   "pygments_lexer": "ipython2",
   "version": "2.7.6"
  }
 },
 "nbformat": 4,
 "nbformat_minor": 0
}
