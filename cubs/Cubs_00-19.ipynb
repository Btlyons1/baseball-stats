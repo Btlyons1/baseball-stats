{
 "cells": [
  {
   "cell_type": "markdown",
   "metadata": {},
   "source": [
    "# Cubs  2000-2019 Stats\n",
    "\n",
    "#### What was the Cubs OBP for the last 19 years\n",
    "- What season had the higest OBP \n",
    "- What season had the lowest OBP \n",
    "    - Do the two seasons represent the best and worst seasons?\n",
    "- How strongly do OBP and Wins correlate for Cubs\n",
    "- Is their avg OBP greater than league average\n",
    "- Is there a correlation between Cubs OBP and Wins\n",
    "- Compare Cubs and league wide OBP correlation \n",
    "- Determine if league OBP can support Cubs findings\n",
    "- Dig into Post Season data to see if correlation results map to ps appearance\n",
    "\n",
    "#### Does ERA correlate to wins \n",
    "- \n",
    "\n",
    "\n",
    "\n",
    "#### Does position player WAR impact wins \n",
    "\n",
    "\n"
   ]
  },
  {
   "cell_type": "code",
   "execution_count": 2,
   "metadata": {},
   "outputs": [],
   "source": [
    "import numpy as np\n",
    "import pandas as pd\n",
    "import matplotlib.pyplot as plt\n",
    "import seaborn as sns\n",
    "from scipy.stats.stats import pearsonr\n"
   ]
  },
  {
   "cell_type": "code",
   "execution_count": 3,
   "metadata": {},
   "outputs": [],
   "source": [
    "%matplotlib inline"
   ]
  },
  {
   "cell_type": "markdown",
   "metadata": {},
   "source": [
    "### Data setup "
   ]
  },
  {
   "cell_type": "code",
   "execution_count": 4,
   "metadata": {},
   "outputs": [],
   "source": [
    "teams = pd.read_csv('../lahman-db/core/Teams.csv')"
   ]
  },
  {
   "cell_type": "code",
   "execution_count": 5,
   "metadata": {},
   "outputs": [],
   "source": [
    "post_season = pd.read_csv('../lahman-db/core/SeriesPost.csv')"
   ]
  },
  {
   "cell_type": "code",
   "execution_count": 6,
   "metadata": {
    "scrolled": true
   },
   "outputs": [
    {
     "data": {
      "text/plain": [
       "(2925, 48)"
      ]
     },
     "execution_count": 6,
     "metadata": {},
     "output_type": "execute_result"
    }
   ],
   "source": [
    "teams.shape"
   ]
  },
  {
   "cell_type": "code",
   "execution_count": 7,
   "metadata": {},
   "outputs": [
    {
     "data": {
      "text/plain": [
       "Index(['yearID', 'lgID', 'teamID', 'franchID', 'divID', 'Rank', 'G', 'Ghome',\n",
       "       'W', 'L', 'DivWin', 'WCWin', 'LgWin', 'WSWin', 'R', 'AB', 'H', '2B',\n",
       "       '3B', 'HR', 'BB', 'SO', 'SB', 'CS', 'HBP', 'SF', 'RA', 'ER', 'ERA',\n",
       "       'CG', 'SHO', 'SV', 'IPouts', 'HA', 'HRA', 'BBA', 'SOA', 'E', 'DP', 'FP',\n",
       "       'name', 'park', 'attendance', 'BPF', 'PPF', 'teamIDBR',\n",
       "       'teamIDlahman45', 'teamIDretro'],\n",
       "      dtype='object')"
      ]
     },
     "execution_count": 7,
     "metadata": {},
     "output_type": "execute_result"
    }
   ],
   "source": [
    "teams.columns"
   ]
  },
  {
   "cell_type": "code",
   "execution_count": 8,
   "metadata": {},
   "outputs": [],
   "source": [
    "cubs = teams.loc[(teams['franchID'] == 'CHC') & (teams.yearID >= 2000)]"
   ]
  },
  {
   "cell_type": "code",
   "execution_count": 9,
   "metadata": {},
   "outputs": [
    {
     "data": {
      "text/html": [
       "<div>\n",
       "<style scoped>\n",
       "    .dataframe tbody tr th:only-of-type {\n",
       "        vertical-align: middle;\n",
       "    }\n",
       "\n",
       "    .dataframe tbody tr th {\n",
       "        vertical-align: top;\n",
       "    }\n",
       "\n",
       "    .dataframe thead th {\n",
       "        text-align: right;\n",
       "    }\n",
       "</style>\n",
       "<table border=\"1\" class=\"dataframe\">\n",
       "  <thead>\n",
       "    <tr style=\"text-align: right;\">\n",
       "      <th></th>\n",
       "      <th>yearID</th>\n",
       "      <th>lgID</th>\n",
       "      <th>teamID</th>\n",
       "      <th>franchID</th>\n",
       "      <th>divID</th>\n",
       "      <th>Rank</th>\n",
       "      <th>G</th>\n",
       "      <th>Ghome</th>\n",
       "      <th>W</th>\n",
       "      <th>L</th>\n",
       "      <th>...</th>\n",
       "      <th>DP</th>\n",
       "      <th>FP</th>\n",
       "      <th>name</th>\n",
       "      <th>park</th>\n",
       "      <th>attendance</th>\n",
       "      <th>BPF</th>\n",
       "      <th>PPF</th>\n",
       "      <th>teamIDBR</th>\n",
       "      <th>teamIDlahman45</th>\n",
       "      <th>teamIDretro</th>\n",
       "    </tr>\n",
       "  </thead>\n",
       "  <tbody>\n",
       "    <tr>\n",
       "      <th>2331</th>\n",
       "      <td>2000</td>\n",
       "      <td>NL</td>\n",
       "      <td>CHN</td>\n",
       "      <td>CHC</td>\n",
       "      <td>C</td>\n",
       "      <td>6</td>\n",
       "      <td>162</td>\n",
       "      <td>81.0</td>\n",
       "      <td>65</td>\n",
       "      <td>97</td>\n",
       "      <td>...</td>\n",
       "      <td>139</td>\n",
       "      <td>0.983</td>\n",
       "      <td>Chicago Cubs</td>\n",
       "      <td>Wrigley Field</td>\n",
       "      <td>2789511.0</td>\n",
       "      <td>97</td>\n",
       "      <td>98</td>\n",
       "      <td>CHC</td>\n",
       "      <td>CHN</td>\n",
       "      <td>CHN</td>\n",
       "    </tr>\n",
       "    <tr>\n",
       "      <th>2361</th>\n",
       "      <td>2001</td>\n",
       "      <td>NL</td>\n",
       "      <td>CHN</td>\n",
       "      <td>CHC</td>\n",
       "      <td>C</td>\n",
       "      <td>3</td>\n",
       "      <td>162</td>\n",
       "      <td>81.0</td>\n",
       "      <td>88</td>\n",
       "      <td>74</td>\n",
       "      <td>...</td>\n",
       "      <td>113</td>\n",
       "      <td>0.982</td>\n",
       "      <td>Chicago Cubs</td>\n",
       "      <td>Wrigley Field</td>\n",
       "      <td>2779465.0</td>\n",
       "      <td>95</td>\n",
       "      <td>95</td>\n",
       "      <td>CHC</td>\n",
       "      <td>CHN</td>\n",
       "      <td>CHN</td>\n",
       "    </tr>\n",
       "    <tr>\n",
       "      <th>2391</th>\n",
       "      <td>2002</td>\n",
       "      <td>NL</td>\n",
       "      <td>CHN</td>\n",
       "      <td>CHC</td>\n",
       "      <td>C</td>\n",
       "      <td>5</td>\n",
       "      <td>162</td>\n",
       "      <td>78.0</td>\n",
       "      <td>67</td>\n",
       "      <td>95</td>\n",
       "      <td>...</td>\n",
       "      <td>144</td>\n",
       "      <td>0.981</td>\n",
       "      <td>Chicago Cubs</td>\n",
       "      <td>Wrigley Field</td>\n",
       "      <td>2693096.0</td>\n",
       "      <td>98</td>\n",
       "      <td>98</td>\n",
       "      <td>CHC</td>\n",
       "      <td>CHN</td>\n",
       "      <td>CHN</td>\n",
       "    </tr>\n",
       "    <tr>\n",
       "      <th>2421</th>\n",
       "      <td>2003</td>\n",
       "      <td>NL</td>\n",
       "      <td>CHN</td>\n",
       "      <td>CHC</td>\n",
       "      <td>C</td>\n",
       "      <td>1</td>\n",
       "      <td>162</td>\n",
       "      <td>81.0</td>\n",
       "      <td>88</td>\n",
       "      <td>74</td>\n",
       "      <td>...</td>\n",
       "      <td>157</td>\n",
       "      <td>0.983</td>\n",
       "      <td>Chicago Cubs</td>\n",
       "      <td>Wrigley Field</td>\n",
       "      <td>2962630.0</td>\n",
       "      <td>101</td>\n",
       "      <td>101</td>\n",
       "      <td>CHC</td>\n",
       "      <td>CHN</td>\n",
       "      <td>CHN</td>\n",
       "    </tr>\n",
       "    <tr>\n",
       "      <th>2451</th>\n",
       "      <td>2004</td>\n",
       "      <td>NL</td>\n",
       "      <td>CHN</td>\n",
       "      <td>CHC</td>\n",
       "      <td>C</td>\n",
       "      <td>3</td>\n",
       "      <td>162</td>\n",
       "      <td>82.0</td>\n",
       "      <td>89</td>\n",
       "      <td>73</td>\n",
       "      <td>...</td>\n",
       "      <td>126</td>\n",
       "      <td>0.986</td>\n",
       "      <td>Chicago Cubs</td>\n",
       "      <td>Wrigley Field</td>\n",
       "      <td>3170154.0</td>\n",
       "      <td>103</td>\n",
       "      <td>102</td>\n",
       "      <td>CHC</td>\n",
       "      <td>CHN</td>\n",
       "      <td>CHN</td>\n",
       "    </tr>\n",
       "  </tbody>\n",
       "</table>\n",
       "<p>5 rows × 48 columns</p>\n",
       "</div>"
      ],
      "text/plain": [
       "      yearID lgID teamID franchID divID  Rank    G  Ghome   W   L  ...   DP  \\\n",
       "2331    2000   NL    CHN      CHC     C     6  162   81.0  65  97  ...  139   \n",
       "2361    2001   NL    CHN      CHC     C     3  162   81.0  88  74  ...  113   \n",
       "2391    2002   NL    CHN      CHC     C     5  162   78.0  67  95  ...  144   \n",
       "2421    2003   NL    CHN      CHC     C     1  162   81.0  88  74  ...  157   \n",
       "2451    2004   NL    CHN      CHC     C     3  162   82.0  89  73  ...  126   \n",
       "\n",
       "         FP          name           park  attendance  BPF  PPF  teamIDBR  \\\n",
       "2331  0.983  Chicago Cubs  Wrigley Field   2789511.0   97   98       CHC   \n",
       "2361  0.982  Chicago Cubs  Wrigley Field   2779465.0   95   95       CHC   \n",
       "2391  0.981  Chicago Cubs  Wrigley Field   2693096.0   98   98       CHC   \n",
       "2421  0.983  Chicago Cubs  Wrigley Field   2962630.0  101  101       CHC   \n",
       "2451  0.986  Chicago Cubs  Wrigley Field   3170154.0  103  102       CHC   \n",
       "\n",
       "      teamIDlahman45  teamIDretro  \n",
       "2331             CHN          CHN  \n",
       "2361             CHN          CHN  \n",
       "2391             CHN          CHN  \n",
       "2421             CHN          CHN  \n",
       "2451             CHN          CHN  \n",
       "\n",
       "[5 rows x 48 columns]"
      ]
     },
     "execution_count": 9,
     "metadata": {},
     "output_type": "execute_result"
    }
   ],
   "source": [
    "cubs.head()"
   ]
  },
  {
   "cell_type": "markdown",
   "metadata": {},
   "source": [
    "#### Calc OBP\n",
    "> On-Base Percentage (OBP) measures the most important thing a batter can do at the plate: not make an out."
   ]
  },
  {
   "cell_type": "code",
   "execution_count": 35,
   "metadata": {},
   "outputs": [
    {
     "name": "stderr",
     "output_type": "stream",
     "text": [
      "<ipython-input-35-b4a948afb34a>:1: SettingWithCopyWarning: \n",
      "A value is trying to be set on a copy of a slice from a DataFrame.\n",
      "Try using .loc[row_indexer,col_indexer] = value instead\n",
      "\n",
      "See the caveats in the documentation: https://pandas.pydata.org/pandas-docs/stable/user_guide/indexing.html#returning-a-view-versus-a-copy\n",
      "  cubs['OBP'] = (cubs['H'] + cubs['BB'] + cubs['HBP']) / (cubs['AB'] + cubs['BB'] + cubs['HBP'] + cubs['SF'])\n"
     ]
    }
   ],
   "source": [
    "cubs['OBP'] = (cubs['H'] + cubs['BB'] + cubs['HBP']) / (cubs['AB'] + cubs['BB'] + cubs['HBP'] + cubs['SF'])"
   ]
  },
  {
   "cell_type": "code",
   "execution_count": 36,
   "metadata": {},
   "outputs": [
    {
     "data": {
      "text/html": [
       "<div>\n",
       "<style scoped>\n",
       "    .dataframe tbody tr th:only-of-type {\n",
       "        vertical-align: middle;\n",
       "    }\n",
       "\n",
       "    .dataframe tbody tr th {\n",
       "        vertical-align: top;\n",
       "    }\n",
       "\n",
       "    .dataframe thead th {\n",
       "        text-align: right;\n",
       "    }\n",
       "</style>\n",
       "<table border=\"1\" class=\"dataframe\">\n",
       "  <thead>\n",
       "    <tr style=\"text-align: right;\">\n",
       "      <th></th>\n",
       "      <th>yearID</th>\n",
       "      <th>OBP</th>\n",
       "    </tr>\n",
       "  </thead>\n",
       "  <tbody>\n",
       "    <tr>\n",
       "      <th>2331</th>\n",
       "      <td>2000</td>\n",
       "      <td>0.334813</td>\n",
       "    </tr>\n",
       "    <tr>\n",
       "      <th>2361</th>\n",
       "      <td>2001</td>\n",
       "      <td>0.336283</td>\n",
       "    </tr>\n",
       "    <tr>\n",
       "      <th>2391</th>\n",
       "      <td>2002</td>\n",
       "      <td>0.321220</td>\n",
       "    </tr>\n",
       "    <tr>\n",
       "      <th>2421</th>\n",
       "      <td>2003</td>\n",
       "      <td>0.323072</td>\n",
       "    </tr>\n",
       "    <tr>\n",
       "      <th>2451</th>\n",
       "      <td>2004</td>\n",
       "      <td>0.328067</td>\n",
       "    </tr>\n",
       "  </tbody>\n",
       "</table>\n",
       "</div>"
      ],
      "text/plain": [
       "      yearID       OBP\n",
       "2331    2000  0.334813\n",
       "2361    2001  0.336283\n",
       "2391    2002  0.321220\n",
       "2421    2003  0.323072\n",
       "2451    2004  0.328067"
      ]
     },
     "execution_count": 36,
     "metadata": {},
     "output_type": "execute_result"
    }
   ],
   "source": [
    "cubs[['yearID', 'OBP']].head()"
   ]
  },
  {
   "cell_type": "markdown",
   "metadata": {},
   "source": [
    "### According to fangraphs [data](https://library.fangraphs.com/offense/obp/), the cubs have an avg OBP over the last 19 years"
   ]
  },
  {
   "cell_type": "code",
   "execution_count": 38,
   "metadata": {},
   "outputs": [
    {
     "data": {
      "text/plain": [
       "0.325407275789558"
      ]
     },
     "execution_count": 38,
     "metadata": {},
     "output_type": "execute_result"
    }
   ],
   "source": [
    "cubs['OBP'].mean()"
   ]
  },
  {
   "cell_type": "markdown",
   "metadata": {},
   "source": [
    "### Cubs team with the higest OBP\n",
    "#### OBP for the 2008 Season falls into the fangraphs above average category"
   ]
  },
  {
   "cell_type": "code",
   "execution_count": 39,
   "metadata": {},
   "outputs": [
    {
     "data": {
      "text/html": [
       "<div>\n",
       "<style scoped>\n",
       "    .dataframe tbody tr th:only-of-type {\n",
       "        vertical-align: middle;\n",
       "    }\n",
       "\n",
       "    .dataframe tbody tr th {\n",
       "        vertical-align: top;\n",
       "    }\n",
       "\n",
       "    .dataframe thead th {\n",
       "        text-align: right;\n",
       "    }\n",
       "</style>\n",
       "<table border=\"1\" class=\"dataframe\">\n",
       "  <thead>\n",
       "    <tr style=\"text-align: right;\">\n",
       "      <th></th>\n",
       "      <th>yearID</th>\n",
       "      <th>ERA</th>\n",
       "      <th>OBP</th>\n",
       "      <th>W</th>\n",
       "    </tr>\n",
       "  </thead>\n",
       "  <tbody>\n",
       "    <tr>\n",
       "      <th>2570</th>\n",
       "      <td>2008</td>\n",
       "      <td>3.87</td>\n",
       "      <td>0.35417</td>\n",
       "      <td>97</td>\n",
       "    </tr>\n",
       "  </tbody>\n",
       "</table>\n",
       "</div>"
      ],
      "text/plain": [
       "      yearID   ERA      OBP   W\n",
       "2570    2008  3.87  0.35417  97"
      ]
     },
     "execution_count": 39,
     "metadata": {},
     "output_type": "execute_result"
    }
   ],
   "source": [
    "cubs[['yearID', 'ERA', 'OBP', 'W']].loc[cubs['OBP'] == cubs['OBP'].max()]"
   ]
  },
  {
   "cell_type": "markdown",
   "metadata": {},
   "source": [
    "#### Cubs 2016 was the best season in 19 years"
   ]
  },
  {
   "cell_type": "markdown",
   "metadata": {},
   "source": [
    "### Cubs team with the lowest OBP\n",
    "#### OBP for the 2014 Season falls into the fangraphs awful category"
   ]
  },
  {
   "cell_type": "code",
   "execution_count": 41,
   "metadata": {},
   "outputs": [
    {
     "data": {
      "text/html": [
       "<div>\n",
       "<style scoped>\n",
       "    .dataframe tbody tr th:only-of-type {\n",
       "        vertical-align: middle;\n",
       "    }\n",
       "\n",
       "    .dataframe tbody tr th {\n",
       "        vertical-align: top;\n",
       "    }\n",
       "\n",
       "    .dataframe thead th {\n",
       "        text-align: right;\n",
       "    }\n",
       "</style>\n",
       "<table border=\"1\" class=\"dataframe\">\n",
       "  <thead>\n",
       "    <tr style=\"text-align: right;\">\n",
       "      <th></th>\n",
       "      <th>yearID</th>\n",
       "      <th>ERA</th>\n",
       "      <th>OBP</th>\n",
       "      <th>W</th>\n",
       "    </tr>\n",
       "  </thead>\n",
       "  <tbody>\n",
       "    <tr>\n",
       "      <th>2750</th>\n",
       "      <td>2014</td>\n",
       "      <td>3.91</td>\n",
       "      <td>0.299586</td>\n",
       "      <td>73</td>\n",
       "    </tr>\n",
       "  </tbody>\n",
       "</table>\n",
       "</div>"
      ],
      "text/plain": [
       "      yearID   ERA       OBP   W\n",
       "2750    2014  3.91  0.299586  73"
      ]
     },
     "execution_count": 41,
     "metadata": {},
     "output_type": "execute_result"
    }
   ],
   "source": [
    "cubs[['yearID', 'ERA', 'OBP', 'W']].loc[cubs['OBP'] == cubs['OBP'].min()]"
   ]
  },
  {
   "cell_type": "markdown",
   "metadata": {},
   "source": [
    "#### 2012 was the worst season in the 19 year period according to Wins"
   ]
  },
  {
   "cell_type": "code",
   "execution_count": 43,
   "metadata": {},
   "outputs": [
    {
     "data": {
      "text/html": [
       "<div>\n",
       "<style scoped>\n",
       "    .dataframe tbody tr th:only-of-type {\n",
       "        vertical-align: middle;\n",
       "    }\n",
       "\n",
       "    .dataframe tbody tr th {\n",
       "        vertical-align: top;\n",
       "    }\n",
       "\n",
       "    .dataframe thead th {\n",
       "        text-align: right;\n",
       "    }\n",
       "</style>\n",
       "<table border=\"1\" class=\"dataframe\">\n",
       "  <thead>\n",
       "    <tr style=\"text-align: right;\">\n",
       "      <th></th>\n",
       "      <th>yearID</th>\n",
       "      <th>ERA</th>\n",
       "      <th>OBP</th>\n",
       "      <th>W</th>\n",
       "    </tr>\n",
       "  </thead>\n",
       "  <tbody>\n",
       "    <tr>\n",
       "      <th>2690</th>\n",
       "      <td>2012</td>\n",
       "      <td>4.51</td>\n",
       "      <td>0.301603</td>\n",
       "      <td>61</td>\n",
       "    </tr>\n",
       "  </tbody>\n",
       "</table>\n",
       "</div>"
      ],
      "text/plain": [
       "      yearID   ERA       OBP   W\n",
       "2690    2012  4.51  0.301603  61"
      ]
     },
     "execution_count": 43,
     "metadata": {},
     "output_type": "execute_result"
    }
   ],
   "source": [
    "cubs[['yearID', 'ERA', 'OBP', 'W']].loc[cubs['W'] == cubs['W'].min()]"
   ]
  },
  {
   "cell_type": "markdown",
   "metadata": {},
   "source": [
    "### As we see from max OBP findings, OBP seems to correlate closely with one of the best seasons in recent Cubs history.\n",
    "- Cofirm there is a strong correlation between OBP and Wins\n",
    "- Initial data set was from 2010-2019 and the correlation between OBP and Wins was 0.885\n",
    "- Stepping back 9 more years from 10 to 19 years dropped correlation value to 0.674"
   ]
  },
  {
   "cell_type": "code",
   "execution_count": 44,
   "metadata": {},
   "outputs": [
    {
     "name": "stdout",
     "output_type": "stream",
     "text": [
      "0.7059180983961311\n"
     ]
    }
   ],
   "source": [
    "# Pearson's correlation coefficient = covariance(X, Y) / (stdv(X) * stdv(Y))\n",
    "# Same as doing pearsonr(obp, wins)\n",
    "def correlation(x,y):\n",
    "    return ((x-x.mean()) * (y-y.mean())).mean() / (x.std(ddof=0) * y.std(ddof=0))\n",
    "\n",
    "wins = cubs['W']\n",
    "obp = cubs['OBP']\n",
    "\n",
    "print(correlation(obp, wins))"
   ]
  },
  {
   "cell_type": "code",
   "execution_count": 46,
   "metadata": {},
   "outputs": [
    {
     "data": {
      "text/plain": [
       "(0.7059180983961311, 0.0005053063955128913)"
      ]
     },
     "execution_count": 46,
     "metadata": {},
     "output_type": "execute_result"
    }
   ],
   "source": [
    "pearsonr(obp, wins)"
   ]
  },
  {
   "cell_type": "markdown",
   "metadata": {},
   "source": [
    "### Viz the last 19 years of OBP"
   ]
  },
  {
   "cell_type": "code",
   "execution_count": 47,
   "metadata": {},
   "outputs": [
    {
     "name": "stderr",
     "output_type": "stream",
     "text": [
      "/usr/local/lib/python3.8/site-packages/seaborn/regression.py:574: UserWarning: The `size` parameter has been renamed to `height`; please update your code.\n",
      "  warnings.warn(msg, UserWarning)\n"
     ]
    },
    {
     "data": {
      "text/plain": [
       "Text(6.085000000000001, 0.5, 'Number of Wins')"
      ]
     },
     "execution_count": 47,
     "metadata": {},
     "output_type": "execute_result"
    },
    {
     "data": {
      "image/png": "[encoded data removed]",
      "text/plain": [
       "<Figure size 576x288 with 1 Axes>"
      ]
     },
     "metadata": {},
     "output_type": "display_data"
    }
   ],
   "source": [
    "sns.set(\"notebook\")\n",
    "sns.lmplot('OBP', \"W\", cubs, palette='#0e3386', scatter_kws={'marker':'o', 'color': '#cc3433'},         \n",
    "           line_kws={'linewidth':1, 'color': '#0e3386'}, size = 4, aspect = 2)\n",
    "\n",
    "plt.title('Correlation of On-Base-Percentage to Wins from 2000 to 2019: 0.705')\n",
    "plt.xlabel('On-Base-Percentage')\n",
    "plt.ylabel('Number of Wins')"
   ]
  },
  {
   "cell_type": "markdown",
   "metadata": {},
   "source": [
    "## Perform Significance test on OBP Correlation \n",
    "- Test against entire population of MLB data"
   ]
  },
  {
   "cell_type": "markdown",
   "metadata": {},
   "source": [
    "### Check league OBP and see if the correlation is the similar"
   ]
  },
  {
   "cell_type": "code",
   "execution_count": 48,
   "metadata": {},
   "outputs": [],
   "source": [
    "league_obp = teams.loc[teams.yearID >= 2000]"
   ]
  },
  {
   "cell_type": "code",
   "execution_count": 49,
   "metadata": {},
   "outputs": [
    {
     "name": "stderr",
     "output_type": "stream",
     "text": [
      "<ipython-input-49-e4d042f0fc3b>:1: SettingWithCopyWarning: \n",
      "A value is trying to be set on a copy of a slice from a DataFrame.\n",
      "Try using .loc[row_indexer,col_indexer] = value instead\n",
      "\n",
      "See the caveats in the documentation: https://pandas.pydata.org/pandas-docs/stable/user_guide/indexing.html#returning-a-view-versus-a-copy\n",
      "  league_obp['OBP'] = (league_obp['H'] + league_obp['BB'] +  league_obp['HBP']) / (league_obp['AB'] + league_obp['BB'] + league_obp['HBP'] + league_obp['SF'])\n"
     ]
    }
   ],
   "source": [
    "league_obp['OBP'] = (league_obp['H'] + league_obp['BB'] +  league_obp['HBP']) / (league_obp['AB'] + league_obp['BB'] + league_obp['HBP'] + league_obp['SF'])\n",
    "\n"
   ]
  },
  {
   "cell_type": "markdown",
   "metadata": {},
   "source": [
    "### League avg is higher than Cubs avg"
   ]
  },
  {
   "cell_type": "code",
   "execution_count": 21,
   "metadata": {},
   "outputs": [
    {
     "data": {
      "text/plain": [
       "True"
      ]
     },
     "execution_count": 21,
     "metadata": {},
     "output_type": "execute_result"
    }
   ],
   "source": [
    "cubs['OBP'].mean() < league_obp['OBP'].mean()"
   ]
  },
  {
   "cell_type": "markdown",
   "metadata": {},
   "source": [
    "### Highest team OBP in the last 19 years "
   ]
  },
  {
   "cell_type": "code",
   "execution_count": 22,
   "metadata": {},
   "outputs": [
    {
     "data": {
      "text/html": [
       "<div>\n",
       "<style scoped>\n",
       "    .dataframe tbody tr th:only-of-type {\n",
       "        vertical-align: middle;\n",
       "    }\n",
       "\n",
       "    .dataframe tbody tr th {\n",
       "        vertical-align: top;\n",
       "    }\n",
       "\n",
       "    .dataframe thead th {\n",
       "        text-align: right;\n",
       "    }\n",
       "</style>\n",
       "<table border=\"1\" class=\"dataframe\">\n",
       "  <thead>\n",
       "    <tr style=\"text-align: right;\">\n",
       "      <th></th>\n",
       "      <th>yearID</th>\n",
       "      <th>franchID</th>\n",
       "      <th>Rank</th>\n",
       "      <th>DivWin</th>\n",
       "      <th>LgWin</th>\n",
       "      <th>WCWin</th>\n",
       "      <th>WSWin</th>\n",
       "      <th>ERA</th>\n",
       "      <th>OBP</th>\n",
       "      <th>W</th>\n",
       "    </tr>\n",
       "  </thead>\n",
       "  <tbody>\n",
       "    <tr>\n",
       "      <th>2333</th>\n",
       "      <td>2000</td>\n",
       "      <td>CLE</td>\n",
       "      <td>2</td>\n",
       "      <td>N</td>\n",
       "      <td>N</td>\n",
       "      <td>N</td>\n",
       "      <td>N</td>\n",
       "      <td>4.84</td>\n",
       "      <td>0.367022</td>\n",
       "      <td>90</td>\n",
       "    </tr>\n",
       "  </tbody>\n",
       "</table>\n",
       "</div>"
      ],
      "text/plain": [
       "      yearID franchID  Rank DivWin LgWin WCWin WSWin   ERA       OBP   W\n",
       "2333    2000      CLE     2      N     N     N     N  4.84  0.367022  90"
      ]
     },
     "execution_count": 22,
     "metadata": {},
     "output_type": "execute_result"
    }
   ],
   "source": [
    "league_obp[['yearID', 'franchID', 'Rank', 'DivWin', 'LgWin', 'WCWin', 'WSWin', 'ERA', 'OBP', 'W']].loc[league_obp['OBP'] == league_obp['OBP'].max()]\n"
   ]
  },
  {
   "cell_type": "markdown",
   "metadata": {},
   "source": [
    "#### Find the top 10 teams of the last 19 years"
   ]
  },
  {
   "cell_type": "code",
   "execution_count": 23,
   "metadata": {},
   "outputs": [],
   "source": [
    "top_obp = league_obp[['yearID', 'franchID', 'teamID', 'Rank', 'DivWin', 'LgWin', 'WCWin', 'WSWin', 'ERA', 'OBP', 'W']].nlargest(10, 'OBP')"
   ]
  },
  {
   "cell_type": "code",
   "execution_count": 78,
   "metadata": {},
   "outputs": [
    {
     "data": {
      "text/html": [
       "<div>\n",
       "<style scoped>\n",
       "    .dataframe tbody tr th:only-of-type {\n",
       "        vertical-align: middle;\n",
       "    }\n",
       "\n",
       "    .dataframe tbody tr th {\n",
       "        vertical-align: top;\n",
       "    }\n",
       "\n",
       "    .dataframe thead th {\n",
       "        text-align: right;\n",
       "    }\n",
       "</style>\n",
       "<table border=\"1\" class=\"dataframe\">\n",
       "  <thead>\n",
       "    <tr style=\"text-align: right;\">\n",
       "      <th></th>\n",
       "      <th>yearID</th>\n",
       "      <th>franchID</th>\n",
       "      <th>teamID</th>\n",
       "      <th>Rank</th>\n",
       "      <th>DivWin</th>\n",
       "      <th>LgWin</th>\n",
       "      <th>WCWin</th>\n",
       "      <th>WSWin</th>\n",
       "      <th>ERA</th>\n",
       "      <th>OBP</th>\n",
       "      <th>W</th>\n",
       "      <th>PS</th>\n",
       "    </tr>\n",
       "  </thead>\n",
       "  <tbody>\n",
       "    <tr>\n",
       "      <th>2333</th>\n",
       "      <td>2000</td>\n",
       "      <td>CLE</td>\n",
       "      <td>CLE</td>\n",
       "      <td>2</td>\n",
       "      <td>N</td>\n",
       "      <td>N</td>\n",
       "      <td>N</td>\n",
       "      <td>N</td>\n",
       "      <td>4.84</td>\n",
       "      <td>0.367022</td>\n",
       "      <td>90</td>\n",
       "      <td>False</td>\n",
       "    </tr>\n",
       "    <tr>\n",
       "      <th>2334</th>\n",
       "      <td>2000</td>\n",
       "      <td>COL</td>\n",
       "      <td>COL</td>\n",
       "      <td>4</td>\n",
       "      <td>N</td>\n",
       "      <td>N</td>\n",
       "      <td>N</td>\n",
       "      <td>N</td>\n",
       "      <td>5.26</td>\n",
       "      <td>0.361712</td>\n",
       "      <td>82</td>\n",
       "      <td>False</td>\n",
       "    </tr>\n",
       "    <tr>\n",
       "      <th>2350</th>\n",
       "      <td>2000</td>\n",
       "      <td>SFG</td>\n",
       "      <td>SFN</td>\n",
       "      <td>1</td>\n",
       "      <td>Y</td>\n",
       "      <td>N</td>\n",
       "      <td>N</td>\n",
       "      <td>N</td>\n",
       "      <td>4.21</td>\n",
       "      <td>0.361702</td>\n",
       "      <td>97</td>\n",
       "      <td>True</td>\n",
       "    </tr>\n",
       "    <tr>\n",
       "      <th>2349</th>\n",
       "      <td>2000</td>\n",
       "      <td>SEA</td>\n",
       "      <td>SEA</td>\n",
       "      <td>2</td>\n",
       "      <td>N</td>\n",
       "      <td>N</td>\n",
       "      <td>Y</td>\n",
       "      <td>N</td>\n",
       "      <td>4.49</td>\n",
       "      <td>0.361072</td>\n",
       "      <td>91</td>\n",
       "      <td>True</td>\n",
       "    </tr>\n",
       "    <tr>\n",
       "      <th>2337</th>\n",
       "      <td>2000</td>\n",
       "      <td>HOU</td>\n",
       "      <td>HOU</td>\n",
       "      <td>4</td>\n",
       "      <td>N</td>\n",
       "      <td>N</td>\n",
       "      <td>N</td>\n",
       "      <td>N</td>\n",
       "      <td>5.42</td>\n",
       "      <td>0.360576</td>\n",
       "      <td>72</td>\n",
       "      <td>False</td>\n",
       "    </tr>\n",
       "    <tr>\n",
       "      <th>2449</th>\n",
       "      <td>2004</td>\n",
       "      <td>BOS</td>\n",
       "      <td>BOS</td>\n",
       "      <td>2</td>\n",
       "      <td>N</td>\n",
       "      <td>Y</td>\n",
       "      <td>Y</td>\n",
       "      <td>Y</td>\n",
       "      <td>4.18</td>\n",
       "      <td>0.359988</td>\n",
       "      <td>98</td>\n",
       "      <td>True</td>\n",
       "    </tr>\n",
       "    <tr>\n",
       "      <th>2522</th>\n",
       "      <td>2006</td>\n",
       "      <td>NYY</td>\n",
       "      <td>NYA</td>\n",
       "      <td>1</td>\n",
       "      <td>Y</td>\n",
       "      <td>N</td>\n",
       "      <td>N</td>\n",
       "      <td>N</td>\n",
       "      <td>4.41</td>\n",
       "      <td>0.362716</td>\n",
       "      <td>97</td>\n",
       "      <td>True</td>\n",
       "    </tr>\n",
       "    <tr>\n",
       "      <th>2552</th>\n",
       "      <td>2007</td>\n",
       "      <td>NYY</td>\n",
       "      <td>NYA</td>\n",
       "      <td>2</td>\n",
       "      <td>N</td>\n",
       "      <td>N</td>\n",
       "      <td>Y</td>\n",
       "      <td>N</td>\n",
       "      <td>4.49</td>\n",
       "      <td>0.365557</td>\n",
       "      <td>94</td>\n",
       "      <td>True</td>\n",
       "    </tr>\n",
       "    <tr>\n",
       "      <th>2538</th>\n",
       "      <td>2007</td>\n",
       "      <td>BOS</td>\n",
       "      <td>BOS</td>\n",
       "      <td>1</td>\n",
       "      <td>Y</td>\n",
       "      <td>Y</td>\n",
       "      <td>N</td>\n",
       "      <td>Y</td>\n",
       "      <td>3.87</td>\n",
       "      <td>0.361789</td>\n",
       "      <td>96</td>\n",
       "      <td>True</td>\n",
       "    </tr>\n",
       "    <tr>\n",
       "      <th>2612</th>\n",
       "      <td>2009</td>\n",
       "      <td>NYY</td>\n",
       "      <td>NYA</td>\n",
       "      <td>1</td>\n",
       "      <td>Y</td>\n",
       "      <td>Y</td>\n",
       "      <td>N</td>\n",
       "      <td>Y</td>\n",
       "      <td>4.26</td>\n",
       "      <td>0.361752</td>\n",
       "      <td>103</td>\n",
       "      <td>True</td>\n",
       "    </tr>\n",
       "  </tbody>\n",
       "</table>\n",
       "</div>"
      ],
      "text/plain": [
       "      yearID franchID teamID  Rank DivWin LgWin WCWin WSWin   ERA       OBP  \\\n",
       "2333    2000      CLE    CLE     2      N     N     N     N  4.84  0.367022   \n",
       "2334    2000      COL    COL     4      N     N     N     N  5.26  0.361712   \n",
       "2350    2000      SFG    SFN     1      Y     N     N     N  4.21  0.361702   \n",
       "2349    2000      SEA    SEA     2      N     N     Y     N  4.49  0.361072   \n",
       "2337    2000      HOU    HOU     4      N     N     N     N  5.42  0.360576   \n",
       "2449    2004      BOS    BOS     2      N     Y     Y     Y  4.18  0.359988   \n",
       "2522    2006      NYY    NYA     1      Y     N     N     N  4.41  0.362716   \n",
       "2552    2007      NYY    NYA     2      N     N     Y     N  4.49  0.365557   \n",
       "2538    2007      BOS    BOS     1      Y     Y     N     Y  3.87  0.361789   \n",
       "2612    2009      NYY    NYA     1      Y     Y     N     Y  4.26  0.361752   \n",
       "\n",
       "        W     PS  \n",
       "2333   90  False  \n",
       "2334   82  False  \n",
       "2350   97   True  \n",
       "2349   91   True  \n",
       "2337   72  False  \n",
       "2449   98   True  \n",
       "2522   97   True  \n",
       "2552   94   True  \n",
       "2538   96   True  \n",
       "2612  103   True  "
      ]
     },
     "execution_count": 78,
     "metadata": {},
     "output_type": "execute_result"
    }
   ],
   "source": [
    "top_obp.sort_values(by='yearID').sort_values(by='yearID')"
   ]
  },
  {
   "cell_type": "markdown",
   "metadata": {},
   "source": [
    "#### Top OBP teams of the last 2 decades are 10 years or older.  \n",
    "- Is this related to the launch angle era"
   ]
  },
  {
   "cell_type": "markdown",
   "metadata": {},
   "source": [
    "###### Pull in post season data"
   ]
  },
  {
   "cell_type": "code",
   "execution_count": 25,
   "metadata": {},
   "outputs": [
    {
     "data": {
      "text/plain": [
       "Index(['yearID', 'round', 'teamIDwinner', 'lgIDwinner', 'teamIDloser',\n",
       "       'lgIDloser', 'wins', 'losses', 'ties'],\n",
       "      dtype='object')"
      ]
     },
     "execution_count": 25,
     "metadata": {},
     "output_type": "execute_result"
    }
   ],
   "source": [
    "post_season.columns"
   ]
  },
  {
   "cell_type": "code",
   "execution_count": 26,
   "metadata": {},
   "outputs": [],
   "source": [
    "def calculate_postseason(df):\n",
    "    for year in df['yearID']:\n",
    "        winning_team = post_season.loc[post_season.yearID == year]['teamIDwinner'].to_list()\n",
    "        losing_team = post_season.loc[post_season.yearID == year]['teamIDloser'].to_list()\n",
    "        ps_teams = set(winning_team + losing_team)\n",
    "        teams = df.loc[df.yearID == year]['teamID'].to_list()\n",
    "        for team in teams:\n",
    "            if team in ps_teams:\n",
    "                df.loc[(df['yearID'] == year) & (df['teamID'] == team)  , 'PS'] = True\n",
    "            else:\n",
    "                df.loc[(df['yearID'] == year) & (df['teamID'] == team), 'PS'] = False\n",
    "    return df"
   ]
  },
  {
   "cell_type": "code",
   "execution_count": 27,
   "metadata": {},
   "outputs": [],
   "source": [
    "top_obp = calculate_postseason(top_obp)"
   ]
  },
  {
   "cell_type": "code",
   "execution_count": 65,
   "metadata": {},
   "outputs": [
    {
     "name": "stderr",
     "output_type": "stream",
     "text": [
      "/usr/local/lib/python3.8/site-packages/pandas/core/indexing.py:845: SettingWithCopyWarning: \n",
      "A value is trying to be set on a copy of a slice from a DataFrame.\n",
      "Try using .loc[row_indexer,col_indexer] = value instead\n",
      "\n",
      "See the caveats in the documentation: https://pandas.pydata.org/pandas-docs/stable/user_guide/indexing.html#returning-a-view-versus-a-copy\n",
      "  self.obj[key] = _infer_fill_value(value)\n",
      "/usr/local/lib/python3.8/site-packages/pandas/core/indexing.py:966: SettingWithCopyWarning: \n",
      "A value is trying to be set on a copy of a slice from a DataFrame.\n",
      "Try using .loc[row_indexer,col_indexer] = value instead\n",
      "\n",
      "See the caveats in the documentation: https://pandas.pydata.org/pandas-docs/stable/user_guide/indexing.html#returning-a-view-versus-a-copy\n",
      "  self.obj[item] = s\n"
     ]
    }
   ],
   "source": [
    "league_obp = calculate_postseason(league_obp)"
   ]
  },
  {
   "cell_type": "markdown",
   "metadata": {},
   "source": [
    "##### Did the teams with the highest OBP reach the post season"
   ]
  },
  {
   "cell_type": "code",
   "execution_count": 66,
   "metadata": {},
   "outputs": [
    {
     "data": {
      "text/html": [
       "<div>\n",
       "<style scoped>\n",
       "    .dataframe tbody tr th:only-of-type {\n",
       "        vertical-align: middle;\n",
       "    }\n",
       "\n",
       "    .dataframe tbody tr th {\n",
       "        vertical-align: top;\n",
       "    }\n",
       "\n",
       "    .dataframe thead th {\n",
       "        text-align: right;\n",
       "    }\n",
       "</style>\n",
       "<table border=\"1\" class=\"dataframe\">\n",
       "  <thead>\n",
       "    <tr style=\"text-align: right;\">\n",
       "      <th></th>\n",
       "      <th>yearID</th>\n",
       "      <th>teamID</th>\n",
       "      <th>PS</th>\n",
       "    </tr>\n",
       "  </thead>\n",
       "  <tbody>\n",
       "    <tr>\n",
       "      <th>2333</th>\n",
       "      <td>2000</td>\n",
       "      <td>CLE</td>\n",
       "      <td>False</td>\n",
       "    </tr>\n",
       "    <tr>\n",
       "      <th>2552</th>\n",
       "      <td>2007</td>\n",
       "      <td>NYA</td>\n",
       "      <td>True</td>\n",
       "    </tr>\n",
       "    <tr>\n",
       "      <th>2522</th>\n",
       "      <td>2006</td>\n",
       "      <td>NYA</td>\n",
       "      <td>True</td>\n",
       "    </tr>\n",
       "    <tr>\n",
       "      <th>2538</th>\n",
       "      <td>2007</td>\n",
       "      <td>BOS</td>\n",
       "      <td>True</td>\n",
       "    </tr>\n",
       "    <tr>\n",
       "      <th>2612</th>\n",
       "      <td>2009</td>\n",
       "      <td>NYA</td>\n",
       "      <td>True</td>\n",
       "    </tr>\n",
       "    <tr>\n",
       "      <th>2334</th>\n",
       "      <td>2000</td>\n",
       "      <td>COL</td>\n",
       "      <td>False</td>\n",
       "    </tr>\n",
       "    <tr>\n",
       "      <th>2350</th>\n",
       "      <td>2000</td>\n",
       "      <td>SFN</td>\n",
       "      <td>True</td>\n",
       "    </tr>\n",
       "    <tr>\n",
       "      <th>2349</th>\n",
       "      <td>2000</td>\n",
       "      <td>SEA</td>\n",
       "      <td>True</td>\n",
       "    </tr>\n",
       "    <tr>\n",
       "      <th>2337</th>\n",
       "      <td>2000</td>\n",
       "      <td>HOU</td>\n",
       "      <td>False</td>\n",
       "    </tr>\n",
       "    <tr>\n",
       "      <th>2449</th>\n",
       "      <td>2004</td>\n",
       "      <td>BOS</td>\n",
       "      <td>True</td>\n",
       "    </tr>\n",
       "  </tbody>\n",
       "</table>\n",
       "</div>"
      ],
      "text/plain": [
       "      yearID teamID     PS\n",
       "2333    2000    CLE  False\n",
       "2552    2007    NYA   True\n",
       "2522    2006    NYA   True\n",
       "2538    2007    BOS   True\n",
       "2612    2009    NYA   True\n",
       "2334    2000    COL  False\n",
       "2350    2000    SFN   True\n",
       "2349    2000    SEA   True\n",
       "2337    2000    HOU  False\n",
       "2449    2004    BOS   True"
      ]
     },
     "execution_count": 66,
     "metadata": {},
     "output_type": "execute_result"
    }
   ],
   "source": [
    "top_obp[['yearID','teamID','PS']]"
   ]
  },
  {
   "cell_type": "markdown",
   "metadata": {},
   "source": [
    "##### 70% of the top 10 teams reached the post season"
   ]
  },
  {
   "cell_type": "code",
   "execution_count": 67,
   "metadata": {},
   "outputs": [
    {
     "data": {
      "text/plain": [
       "True     7\n",
       "False    3\n",
       "Name: PS, dtype: int64"
      ]
     },
     "execution_count": 67,
     "metadata": {},
     "output_type": "execute_result"
    }
   ],
   "source": [
    "top_obp['PS'].value_counts()"
   ]
  },
  {
   "cell_type": "markdown",
   "metadata": {},
   "source": [
    "##### 50% of the top 10 teams were in year 2000 \n",
    "##### Why did the year 2000 have 5 teams with the higest OBP"
   ]
  },
  {
   "cell_type": "code",
   "execution_count": 68,
   "metadata": {},
   "outputs": [
    {
     "data": {
      "text/plain": [
       "2000    5\n",
       "2007    2\n",
       "2009    1\n",
       "2006    1\n",
       "2004    1\n",
       "Name: yearID, dtype: int64"
      ]
     },
     "execution_count": 68,
     "metadata": {},
     "output_type": "execute_result"
    }
   ],
   "source": [
    "top_obp['yearID'].value_counts()"
   ]
  },
  {
   "cell_type": "markdown",
   "metadata": {},
   "source": [
    "#### 30% of the teams with the highest OBP won the WS"
   ]
  },
  {
   "cell_type": "code",
   "execution_count": 69,
   "metadata": {},
   "outputs": [
    {
     "data": {
      "text/plain": [
       "N    7\n",
       "Y    3\n",
       "Name: WSWin, dtype: int64"
      ]
     },
     "execution_count": 69,
     "metadata": {},
     "output_type": "execute_result"
    }
   ],
   "source": [
    "top_obp['WSWin'].value_counts()"
   ]
  },
  {
   "cell_type": "markdown",
   "metadata": {},
   "source": [
    "### Lowest team OBP in the last 19 years "
   ]
  },
  {
   "cell_type": "code",
   "execution_count": 70,
   "metadata": {},
   "outputs": [
    {
     "data": {
      "text/plain": [
       "0.2920656634746922"
      ]
     },
     "execution_count": 70,
     "metadata": {},
     "output_type": "execute_result"
    }
   ],
   "source": [
    "league_obp['OBP'].min()"
   ]
  },
  {
   "cell_type": "code",
   "execution_count": 71,
   "metadata": {},
   "outputs": [
    {
     "data": {
      "text/html": [
       "<div>\n",
       "<style scoped>\n",
       "    .dataframe tbody tr th:only-of-type {\n",
       "        vertical-align: middle;\n",
       "    }\n",
       "\n",
       "    .dataframe tbody tr th {\n",
       "        vertical-align: top;\n",
       "    }\n",
       "\n",
       "    .dataframe thead th {\n",
       "        text-align: right;\n",
       "    }\n",
       "</style>\n",
       "<table border=\"1\" class=\"dataframe\">\n",
       "  <thead>\n",
       "    <tr style=\"text-align: right;\">\n",
       "      <th></th>\n",
       "      <th>yearID</th>\n",
       "      <th>franchID</th>\n",
       "      <th>Rank</th>\n",
       "      <th>DivWin</th>\n",
       "      <th>LgWin</th>\n",
       "      <th>WCWin</th>\n",
       "      <th>WSWin</th>\n",
       "      <th>ERA</th>\n",
       "      <th>OBP</th>\n",
       "      <th>W</th>\n",
       "    </tr>\n",
       "  </thead>\n",
       "  <tbody>\n",
       "    <tr>\n",
       "      <th>2767</th>\n",
       "      <td>2014</td>\n",
       "      <td>SDP</td>\n",
       "      <td>3</td>\n",
       "      <td>N</td>\n",
       "      <td>N</td>\n",
       "      <td>N</td>\n",
       "      <td>N</td>\n",
       "      <td>3.27</td>\n",
       "      <td>0.292066</td>\n",
       "      <td>77</td>\n",
       "    </tr>\n",
       "  </tbody>\n",
       "</table>\n",
       "</div>"
      ],
      "text/plain": [
       "      yearID franchID  Rank DivWin LgWin WCWin WSWin   ERA       OBP   W\n",
       "2767    2014      SDP     3      N     N     N     N  3.27  0.292066  77"
      ]
     },
     "execution_count": 71,
     "metadata": {},
     "output_type": "execute_result"
    }
   ],
   "source": [
    "league_obp[['yearID', 'franchID', 'Rank', 'DivWin', 'LgWin', 'WCWin', 'WSWin', 'ERA', 'OBP', 'W']].loc[league_obp['OBP'] == league_obp['OBP'].min()]\n"
   ]
  },
  {
   "cell_type": "code",
   "execution_count": 72,
   "metadata": {},
   "outputs": [],
   "source": [
    "low_obp = league_obp[['yearID', 'franchID', 'teamID', 'Rank', 'DivWin', 'LgWin', 'WCWin', 'WSWin', 'ERA', 'OBP', 'W']].nsmallest(10, 'OBP')"
   ]
  },
  {
   "cell_type": "markdown",
   "metadata": {},
   "source": [
    "#### We can see the top 10 lowest OBP teams were all from the last 9 years \n",
    "#### Is there a correlation between launch angle and the decrease of OBP "
   ]
  },
  {
   "cell_type": "code",
   "execution_count": 73,
   "metadata": {},
   "outputs": [
    {
     "data": {
      "text/html": [
       "<div>\n",
       "<style scoped>\n",
       "    .dataframe tbody tr th:only-of-type {\n",
       "        vertical-align: middle;\n",
       "    }\n",
       "\n",
       "    .dataframe tbody tr th {\n",
       "        vertical-align: top;\n",
       "    }\n",
       "\n",
       "    .dataframe thead th {\n",
       "        text-align: right;\n",
       "    }\n",
       "</style>\n",
       "<table border=\"1\" class=\"dataframe\">\n",
       "  <thead>\n",
       "    <tr style=\"text-align: right;\">\n",
       "      <th></th>\n",
       "      <th>yearID</th>\n",
       "      <th>franchID</th>\n",
       "      <th>teamID</th>\n",
       "      <th>Rank</th>\n",
       "      <th>DivWin</th>\n",
       "      <th>LgWin</th>\n",
       "      <th>WCWin</th>\n",
       "      <th>WSWin</th>\n",
       "      <th>ERA</th>\n",
       "      <th>OBP</th>\n",
       "      <th>W</th>\n",
       "    </tr>\n",
       "  </thead>\n",
       "  <tbody>\n",
       "    <tr>\n",
       "      <th>2648</th>\n",
       "      <td>2010</td>\n",
       "      <td>SEA</td>\n",
       "      <td>SEA</td>\n",
       "      <td>4</td>\n",
       "      <td>N</td>\n",
       "      <td>N</td>\n",
       "      <td>N</td>\n",
       "      <td>N</td>\n",
       "      <td>3.93</td>\n",
       "      <td>0.297965</td>\n",
       "      <td>61</td>\n",
       "    </tr>\n",
       "    <tr>\n",
       "      <th>2678</th>\n",
       "      <td>2011</td>\n",
       "      <td>SEA</td>\n",
       "      <td>SEA</td>\n",
       "      <td>4</td>\n",
       "      <td>N</td>\n",
       "      <td>N</td>\n",
       "      <td>N</td>\n",
       "      <td>N</td>\n",
       "      <td>3.90</td>\n",
       "      <td>0.292383</td>\n",
       "      <td>67</td>\n",
       "    </tr>\n",
       "    <tr>\n",
       "      <th>2708</th>\n",
       "      <td>2012</td>\n",
       "      <td>SEA</td>\n",
       "      <td>SEA</td>\n",
       "      <td>4</td>\n",
       "      <td>N</td>\n",
       "      <td>N</td>\n",
       "      <td>N</td>\n",
       "      <td>N</td>\n",
       "      <td>3.76</td>\n",
       "      <td>0.295602</td>\n",
       "      <td>75</td>\n",
       "    </tr>\n",
       "    <tr>\n",
       "      <th>2729</th>\n",
       "      <td>2013</td>\n",
       "      <td>FLA</td>\n",
       "      <td>MIA</td>\n",
       "      <td>5</td>\n",
       "      <td>N</td>\n",
       "      <td>N</td>\n",
       "      <td>N</td>\n",
       "      <td>N</td>\n",
       "      <td>3.71</td>\n",
       "      <td>0.292638</td>\n",
       "      <td>62</td>\n",
       "    </tr>\n",
       "    <tr>\n",
       "      <th>2767</th>\n",
       "      <td>2014</td>\n",
       "      <td>SDP</td>\n",
       "      <td>SDN</td>\n",
       "      <td>3</td>\n",
       "      <td>N</td>\n",
       "      <td>N</td>\n",
       "      <td>N</td>\n",
       "      <td>N</td>\n",
       "      <td>3.27</td>\n",
       "      <td>0.292066</td>\n",
       "      <td>77</td>\n",
       "    </tr>\n",
       "    <tr>\n",
       "      <th>2751</th>\n",
       "      <td>2014</td>\n",
       "      <td>CIN</td>\n",
       "      <td>CIN</td>\n",
       "      <td>4</td>\n",
       "      <td>N</td>\n",
       "      <td>N</td>\n",
       "      <td>N</td>\n",
       "      <td>N</td>\n",
       "      <td>3.59</td>\n",
       "      <td>0.296491</td>\n",
       "      <td>76</td>\n",
       "    </tr>\n",
       "    <tr>\n",
       "      <th>2887</th>\n",
       "      <td>2018</td>\n",
       "      <td>SDP</td>\n",
       "      <td>SDN</td>\n",
       "      <td>5</td>\n",
       "      <td>N</td>\n",
       "      <td>N</td>\n",
       "      <td>N</td>\n",
       "      <td>N</td>\n",
       "      <td>4.40</td>\n",
       "      <td>0.297311</td>\n",
       "      <td>66</td>\n",
       "    </tr>\n",
       "    <tr>\n",
       "      <th>2867</th>\n",
       "      <td>2018</td>\n",
       "      <td>BAL</td>\n",
       "      <td>BAL</td>\n",
       "      <td>5</td>\n",
       "      <td>N</td>\n",
       "      <td>N</td>\n",
       "      <td>N</td>\n",
       "      <td>N</td>\n",
       "      <td>5.18</td>\n",
       "      <td>0.298289</td>\n",
       "      <td>47</td>\n",
       "    </tr>\n",
       "    <tr>\n",
       "      <th>2904</th>\n",
       "      <td>2019</td>\n",
       "      <td>DET</td>\n",
       "      <td>DET</td>\n",
       "      <td>5</td>\n",
       "      <td>N</td>\n",
       "      <td>N</td>\n",
       "      <td>N</td>\n",
       "      <td>N</td>\n",
       "      <td>5.24</td>\n",
       "      <td>0.293864</td>\n",
       "      <td>47</td>\n",
       "    </tr>\n",
       "    <tr>\n",
       "      <th>2909</th>\n",
       "      <td>2019</td>\n",
       "      <td>FLA</td>\n",
       "      <td>MIA</td>\n",
       "      <td>5</td>\n",
       "      <td>N</td>\n",
       "      <td>N</td>\n",
       "      <td>N</td>\n",
       "      <td>N</td>\n",
       "      <td>4.74</td>\n",
       "      <td>0.298354</td>\n",
       "      <td>57</td>\n",
       "    </tr>\n",
       "  </tbody>\n",
       "</table>\n",
       "</div>"
      ],
      "text/plain": [
       "      yearID franchID teamID  Rank DivWin LgWin WCWin WSWin   ERA       OBP  \\\n",
       "2648    2010      SEA    SEA     4      N     N     N     N  3.93  0.297965   \n",
       "2678    2011      SEA    SEA     4      N     N     N     N  3.90  0.292383   \n",
       "2708    2012      SEA    SEA     4      N     N     N     N  3.76  0.295602   \n",
       "2729    2013      FLA    MIA     5      N     N     N     N  3.71  0.292638   \n",
       "2767    2014      SDP    SDN     3      N     N     N     N  3.27  0.292066   \n",
       "2751    2014      CIN    CIN     4      N     N     N     N  3.59  0.296491   \n",
       "2887    2018      SDP    SDN     5      N     N     N     N  4.40  0.297311   \n",
       "2867    2018      BAL    BAL     5      N     N     N     N  5.18  0.298289   \n",
       "2904    2019      DET    DET     5      N     N     N     N  5.24  0.293864   \n",
       "2909    2019      FLA    MIA     5      N     N     N     N  4.74  0.298354   \n",
       "\n",
       "       W  \n",
       "2648  61  \n",
       "2678  67  \n",
       "2708  75  \n",
       "2729  62  \n",
       "2767  77  \n",
       "2751  76  \n",
       "2887  66  \n",
       "2867  47  \n",
       "2904  47  \n",
       "2909  57  "
      ]
     },
     "execution_count": 73,
     "metadata": {},
     "output_type": "execute_result"
    }
   ],
   "source": [
    "low_obp.sort_values(by='yearID')"
   ]
  },
  {
   "cell_type": "code",
   "execution_count": 79,
   "metadata": {},
   "outputs": [
    {
     "name": "stdout",
     "output_type": "stream",
     "text": [
      "0.6810902577809328\n"
     ]
    }
   ],
   "source": [
    "full_league_obp = league_obp['OBP']\n",
    "print(correlation(full_league_obp, wins))"
   ]
  },
  {
   "cell_type": "code",
   "execution_count": 82,
   "metadata": {},
   "outputs": [
    {
     "data": {
      "text/plain": [
       "(0.3797168844102426, 5.144633077780946e-22)"
      ]
     },
     "execution_count": 82,
     "metadata": {},
     "output_type": "execute_result"
    }
   ],
   "source": [
    "pearsonr(league_obp['OBP'], league_obp['PS'])"
   ]
  },
  {
   "cell_type": "code",
   "execution_count": 85,
   "metadata": {},
   "outputs": [
    {
     "data": {
      "text/plain": [
       "Text(29.276496961805563, 0.5, 'Number of Wins')"
      ]
     },
     "execution_count": 85,
     "metadata": {},
     "output_type": "execute_result"
    },
    {
     "data": {
      "image/png": "[encoded data removed]",
      "text/plain": [
       "<Figure size 642.35x288 with 1 Axes>"
      ]
     },
     "metadata": {},
     "output_type": "display_data"
    }
   ],
   "source": [
    "sns.lmplot('OBP', \"W\", league_obp, hue=\"PS\", markers=['o', 'x'],  palette=\"Set1\", \n",
    "           line_kws={'linewidth':2,'color':'black'}, size = 4, aspect = 2)\n",
    "\n",
    "plt.title('Correlation of On-Base-Percentage to Wins from 2000 to 2019: 0.681')\n",
    "plt.xlabel('On-Base-Percentage')\n",
    "plt.ylabel('Number of Wins')"
   ]
  },
  {
   "cell_type": "markdown",
   "metadata": {},
   "source": [
    "#### 23% of the teams with an OBP over .340 made the post season "
   ]
  },
  {
   "cell_type": "code",
   "execution_count": 76,
   "metadata": {},
   "outputs": [
    {
     "data": {
      "text/plain": [
       "23.935091277890468"
      ]
     },
     "execution_count": 76,
     "metadata": {},
     "output_type": "execute_result"
    }
   ],
   "source": [
    "league_obp[(league_obp.OBP <= 0.34)]['PS'].mean() * 100"
   ]
  },
  {
   "cell_type": "markdown",
   "metadata": {},
   "source": [
    "#### Average Post season team had an OBP of 0.335"
   ]
  },
  {
   "cell_type": "code",
   "execution_count": 77,
   "metadata": {},
   "outputs": [
    {
     "data": {
      "text/plain": [
       "0.3354966630412032"
      ]
     },
     "execution_count": 77,
     "metadata": {},
     "output_type": "execute_result"
    }
   ],
   "source": [
    "league_obp[(league_obp.PS == True)]['OBP'].mean()"
   ]
  },
  {
   "cell_type": "markdown",
   "metadata": {},
   "source": [
    "## OBP Conclusion \n",
    "- We observe that in sample (Cubs data) and population (League wide data) both have a positive correlation \n",
    "- There is a greater correlation coefficient for in sample than population\n",
    "- There is an overall moderate positive relationship between OBP and Wins\n",
    "- There is a a low positive correlation between OBP and Post Season appearance\n",
    "- Many factors come into play during a Baseball game as seen by the data\n",
    "- As expected, we can conclude that a team with a higher OBP has a better chance of winning more games. "
   ]
  },
  {
   "cell_type": "markdown",
   "metadata": {},
   "source": [
    "### Does ERA also correlate with the number of wins"
   ]
  },
  {
   "cell_type": "code",
   "execution_count": 87,
   "metadata": {},
   "outputs": [
    {
     "name": "stdout",
     "output_type": "stream",
     "text": [
      "-0.8097383059646235\n"
     ]
    }
   ],
   "source": [
    "era = cubs['ERA']\n",
    "print(correlation(era, wins))"
   ]
  },
  {
   "cell_type": "code",
   "execution_count": 88,
   "metadata": {},
   "outputs": [
    {
     "data": {
      "text/html": [
       "<div>\n",
       "<style scoped>\n",
       "    .dataframe tbody tr th:only-of-type {\n",
       "        vertical-align: middle;\n",
       "    }\n",
       "\n",
       "    .dataframe tbody tr th {\n",
       "        vertical-align: top;\n",
       "    }\n",
       "\n",
       "    .dataframe thead th {\n",
       "        text-align: right;\n",
       "    }\n",
       "</style>\n",
       "<table border=\"1\" class=\"dataframe\">\n",
       "  <thead>\n",
       "    <tr style=\"text-align: right;\">\n",
       "      <th></th>\n",
       "      <th>yearID</th>\n",
       "      <th>ERA</th>\n",
       "      <th>OBP</th>\n",
       "      <th>W</th>\n",
       "    </tr>\n",
       "  </thead>\n",
       "  <tbody>\n",
       "    <tr>\n",
       "      <th>2331</th>\n",
       "      <td>2000</td>\n",
       "      <td>5.25</td>\n",
       "      <td>0.334813</td>\n",
       "      <td>65</td>\n",
       "    </tr>\n",
       "    <tr>\n",
       "      <th>2361</th>\n",
       "      <td>2001</td>\n",
       "      <td>4.03</td>\n",
       "      <td>0.336283</td>\n",
       "      <td>88</td>\n",
       "    </tr>\n",
       "    <tr>\n",
       "      <th>2391</th>\n",
       "      <td>2002</td>\n",
       "      <td>4.29</td>\n",
       "      <td>0.321220</td>\n",
       "      <td>67</td>\n",
       "    </tr>\n",
       "    <tr>\n",
       "      <th>2421</th>\n",
       "      <td>2003</td>\n",
       "      <td>3.83</td>\n",
       "      <td>0.323072</td>\n",
       "      <td>88</td>\n",
       "    </tr>\n",
       "    <tr>\n",
       "      <th>2451</th>\n",
       "      <td>2004</td>\n",
       "      <td>3.81</td>\n",
       "      <td>0.328067</td>\n",
       "      <td>89</td>\n",
       "    </tr>\n",
       "    <tr>\n",
       "      <th>2480</th>\n",
       "      <td>2005</td>\n",
       "      <td>4.19</td>\n",
       "      <td>0.324302</td>\n",
       "      <td>79</td>\n",
       "    </tr>\n",
       "    <tr>\n",
       "      <th>2510</th>\n",
       "      <td>2006</td>\n",
       "      <td>4.74</td>\n",
       "      <td>0.319037</td>\n",
       "      <td>66</td>\n",
       "    </tr>\n",
       "    <tr>\n",
       "      <th>2540</th>\n",
       "      <td>2007</td>\n",
       "      <td>4.04</td>\n",
       "      <td>0.332797</td>\n",
       "      <td>85</td>\n",
       "    </tr>\n",
       "    <tr>\n",
       "      <th>2570</th>\n",
       "      <td>2008</td>\n",
       "      <td>3.87</td>\n",
       "      <td>0.354170</td>\n",
       "      <td>97</td>\n",
       "    </tr>\n",
       "    <tr>\n",
       "      <th>2600</th>\n",
       "      <td>2009</td>\n",
       "      <td>3.84</td>\n",
       "      <td>0.331607</td>\n",
       "      <td>83</td>\n",
       "    </tr>\n",
       "    <tr>\n",
       "      <th>2630</th>\n",
       "      <td>2010</td>\n",
       "      <td>4.18</td>\n",
       "      <td>0.319625</td>\n",
       "      <td>75</td>\n",
       "    </tr>\n",
       "    <tr>\n",
       "      <th>2660</th>\n",
       "      <td>2011</td>\n",
       "      <td>4.33</td>\n",
       "      <td>0.314272</td>\n",
       "      <td>71</td>\n",
       "    </tr>\n",
       "    <tr>\n",
       "      <th>2690</th>\n",
       "      <td>2012</td>\n",
       "      <td>4.51</td>\n",
       "      <td>0.301603</td>\n",
       "      <td>61</td>\n",
       "    </tr>\n",
       "    <tr>\n",
       "      <th>2720</th>\n",
       "      <td>2013</td>\n",
       "      <td>4.00</td>\n",
       "      <td>0.300464</td>\n",
       "      <td>66</td>\n",
       "    </tr>\n",
       "    <tr>\n",
       "      <th>2750</th>\n",
       "      <td>2014</td>\n",
       "      <td>3.91</td>\n",
       "      <td>0.299586</td>\n",
       "      <td>73</td>\n",
       "    </tr>\n",
       "    <tr>\n",
       "      <th>2780</th>\n",
       "      <td>2015</td>\n",
       "      <td>3.36</td>\n",
       "      <td>0.321388</td>\n",
       "      <td>97</td>\n",
       "    </tr>\n",
       "    <tr>\n",
       "      <th>2810</th>\n",
       "      <td>2016</td>\n",
       "      <td>3.15</td>\n",
       "      <td>0.343452</td>\n",
       "      <td>103</td>\n",
       "    </tr>\n",
       "    <tr>\n",
       "      <th>2840</th>\n",
       "      <td>2017</td>\n",
       "      <td>3.95</td>\n",
       "      <td>0.337933</td>\n",
       "      <td>92</td>\n",
       "    </tr>\n",
       "    <tr>\n",
       "      <th>2870</th>\n",
       "      <td>2018</td>\n",
       "      <td>3.65</td>\n",
       "      <td>0.333175</td>\n",
       "      <td>95</td>\n",
       "    </tr>\n",
       "    <tr>\n",
       "      <th>2900</th>\n",
       "      <td>2019</td>\n",
       "      <td>4.10</td>\n",
       "      <td>0.331278</td>\n",
       "      <td>84</td>\n",
       "    </tr>\n",
       "  </tbody>\n",
       "</table>\n",
       "</div>"
      ],
      "text/plain": [
       "      yearID   ERA       OBP    W\n",
       "2331    2000  5.25  0.334813   65\n",
       "2361    2001  4.03  0.336283   88\n",
       "2391    2002  4.29  0.321220   67\n",
       "2421    2003  3.83  0.323072   88\n",
       "2451    2004  3.81  0.328067   89\n",
       "2480    2005  4.19  0.324302   79\n",
       "2510    2006  4.74  0.319037   66\n",
       "2540    2007  4.04  0.332797   85\n",
       "2570    2008  3.87  0.354170   97\n",
       "2600    2009  3.84  0.331607   83\n",
       "2630    2010  4.18  0.319625   75\n",
       "2660    2011  4.33  0.314272   71\n",
       "2690    2012  4.51  0.301603   61\n",
       "2720    2013  4.00  0.300464   66\n",
       "2750    2014  3.91  0.299586   73\n",
       "2780    2015  3.36  0.321388   97\n",
       "2810    2016  3.15  0.343452  103\n",
       "2840    2017  3.95  0.337933   92\n",
       "2870    2018  3.65  0.333175   95\n",
       "2900    2019  4.10  0.331278   84"
      ]
     },
     "execution_count": 88,
     "metadata": {},
     "output_type": "execute_result"
    }
   ],
   "source": [
    "cubs[['yearID', 'ERA', 'OBP', 'W']]"
   ]
  },
  {
   "cell_type": "markdown",
   "metadata": {},
   "source": [
    "### Find the lowest ERA "
   ]
  },
  {
   "cell_type": "code",
   "execution_count": 110,
   "metadata": {},
   "outputs": [
    {
     "data": {
      "text/html": [
       "<div>\n",
       "<style scoped>\n",
       "    .dataframe tbody tr th:only-of-type {\n",
       "        vertical-align: middle;\n",
       "    }\n",
       "\n",
       "    .dataframe tbody tr th {\n",
       "        vertical-align: top;\n",
       "    }\n",
       "\n",
       "    .dataframe thead th {\n",
       "        text-align: right;\n",
       "    }\n",
       "</style>\n",
       "<table border=\"1\" class=\"dataframe\">\n",
       "  <thead>\n",
       "    <tr style=\"text-align: right;\">\n",
       "      <th></th>\n",
       "      <th>yearID</th>\n",
       "      <th>ERA</th>\n",
       "      <th>OBP</th>\n",
       "      <th>W</th>\n",
       "    </tr>\n",
       "  </thead>\n",
       "  <tbody>\n",
       "    <tr>\n",
       "      <th>2810</th>\n",
       "      <td>2016</td>\n",
       "      <td>3.15</td>\n",
       "      <td>0.343452</td>\n",
       "      <td>103</td>\n",
       "    </tr>\n",
       "  </tbody>\n",
       "</table>\n",
       "</div>"
      ],
      "text/plain": [
       "      yearID   ERA       OBP    W\n",
       "2810    2016  3.15  0.343452  103"
      ]
     },
     "execution_count": 110,
     "metadata": {},
     "output_type": "execute_result"
    }
   ],
   "source": [
    "cubs[['yearID', 'ERA', 'OBP', 'W']].loc[cubs['ERA'] == cubs['ERA'].min()]"
   ]
  },
  {
   "cell_type": "markdown",
   "metadata": {},
   "source": [
    "### Find the Highest ERA "
   ]
  },
  {
   "cell_type": "code",
   "execution_count": 111,
   "metadata": {},
   "outputs": [
    {
     "data": {
      "text/html": [
       "<div>\n",
       "<style scoped>\n",
       "    .dataframe tbody tr th:only-of-type {\n",
       "        vertical-align: middle;\n",
       "    }\n",
       "\n",
       "    .dataframe tbody tr th {\n",
       "        vertical-align: top;\n",
       "    }\n",
       "\n",
       "    .dataframe thead th {\n",
       "        text-align: right;\n",
       "    }\n",
       "</style>\n",
       "<table border=\"1\" class=\"dataframe\">\n",
       "  <thead>\n",
       "    <tr style=\"text-align: right;\">\n",
       "      <th></th>\n",
       "      <th>yearID</th>\n",
       "      <th>ERA</th>\n",
       "      <th>OBP</th>\n",
       "      <th>W</th>\n",
       "    </tr>\n",
       "  </thead>\n",
       "  <tbody>\n",
       "    <tr>\n",
       "      <th>2331</th>\n",
       "      <td>2000</td>\n",
       "      <td>5.25</td>\n",
       "      <td>0.334813</td>\n",
       "      <td>65</td>\n",
       "    </tr>\n",
       "  </tbody>\n",
       "</table>\n",
       "</div>"
      ],
      "text/plain": [
       "      yearID   ERA       OBP   W\n",
       "2331    2000  5.25  0.334813  65"
      ]
     },
     "execution_count": 111,
     "metadata": {},
     "output_type": "execute_result"
    }
   ],
   "source": [
    "cubs[['yearID', 'ERA', 'OBP', 'W']].loc[cubs['ERA'] == cubs['ERA'].max()]"
   ]
  },
  {
   "cell_type": "markdown",
   "metadata": {},
   "source": [
    "### We can see that ERA and Wins have a negative correlation \n",
    "### The lower the ERA the, the higer the number of Wins "
   ]
  },
  {
   "cell_type": "code",
   "execution_count": 112,
   "metadata": {},
   "outputs": [
    {
     "name": "stdout",
     "output_type": "stream",
     "text": [
      "-0.8097383059646235\n"
     ]
    }
   ],
   "source": [
    "print(correlation(cubs['ERA'], cubs['W']))"
   ]
  },
  {
   "cell_type": "code",
   "execution_count": 113,
   "metadata": {},
   "outputs": [
    {
     "data": {
      "text/plain": [
       "(-0.8097383059646236, 1.5199741710607373e-05)"
      ]
     },
     "execution_count": 113,
     "metadata": {},
     "output_type": "execute_result"
    }
   ],
   "source": [
    "pearsonr(cubs['ERA'], cubs['W'])"
   ]
  },
  {
   "cell_type": "markdown",
   "metadata": {},
   "source": [
    "### There is a strong negative correlation between ERA and number of Wins "
   ]
  },
  {
   "cell_type": "code",
   "execution_count": 114,
   "metadata": {},
   "outputs": [
    {
     "name": "stderr",
     "output_type": "stream",
     "text": [
      "/usr/local/lib/python3.8/site-packages/seaborn/regression.py:574: UserWarning: The `size` parameter has been renamed to `height`; please update your code.\n",
      "  warnings.warn(msg, UserWarning)\n"
     ]
    },
    {
     "data": {
      "text/plain": [
       "Text(6.085000000000001, 0.5, 'Number of Wins')"
      ]
     },
     "execution_count": 114,
     "metadata": {},
     "output_type": "execute_result"
    },
    {
     "data": {
      "image/png": "[encoded data removed]",
      "text/plain": [
       "<Figure size 576x288 with 1 Axes>"
      ]
     },
     "metadata": {},
     "output_type": "display_data"
    }
   ],
   "source": [
    "sns.lmplot('ERA', \"W\", cubs, scatter_kws={'marker':'o', 'color': 'indianred'}, \n",
    "           line_kws={'linewidth':1,'color':'blue'}, size = 4, aspect = 2)\n",
    "\n",
    "plt.title('Correlation of ERA to Wins from 2000 to 2019: -0.809')\n",
    "plt.xlabel('ERA')\n",
    "plt.ylabel('Number of Wins')"
   ]
  },
  {
   "cell_type": "markdown",
   "metadata": {},
   "source": [
    "## Perform Significance test on ERA Correlation \n",
    "- Test against entire population of MLB data"
   ]
  },
  {
   "cell_type": "code",
   "execution_count": 97,
   "metadata": {},
   "outputs": [],
   "source": [
    "league_data = league_obp.copy()"
   ]
  },
  {
   "cell_type": "code",
   "execution_count": 148,
   "metadata": {},
   "outputs": [
    {
     "data": {
      "text/plain": [
       "Index(['yearID', 'lgID', 'teamID', 'franchID', 'divID', 'Rank', 'G', 'Ghome',\n",
       "       'W', 'L', 'DivWin', 'WCWin', 'LgWin', 'WSWin', 'R', 'AB', 'H', '2B',\n",
       "       '3B', 'HR', 'BB', 'SO', 'SB', 'CS', 'HBP', 'SF', 'RA', 'ER', 'ERA',\n",
       "       'CG', 'SHO', 'SV', 'IPouts', 'HA', 'HRA', 'BBA', 'SOA', 'E', 'DP', 'FP',\n",
       "       'name', 'park', 'attendance', 'BPF', 'PPF', 'teamIDBR',\n",
       "       'teamIDlahman45', 'teamIDretro', 'OBP', 'PS'],\n",
       "      dtype='object')"
      ]
     },
     "execution_count": 148,
     "metadata": {},
     "output_type": "execute_result"
    }
   ],
   "source": [
    "league_data.columns"
   ]
  },
  {
   "cell_type": "markdown",
   "metadata": {},
   "source": [
    "#### League avg ERA"
   ]
  },
  {
   "cell_type": "code",
   "execution_count": 134,
   "metadata": {},
   "outputs": [
    {
     "data": {
      "text/plain": [
       "4.248"
      ]
     },
     "execution_count": 134,
     "metadata": {},
     "output_type": "execute_result"
    }
   ],
   "source": [
    "league_data['ERA'].mean()"
   ]
  },
  {
   "cell_type": "code",
   "execution_count": 135,
   "metadata": {},
   "outputs": [
    {
     "data": {
      "text/plain": [
       "4.051500000000001"
      ]
     },
     "execution_count": 135,
     "metadata": {},
     "output_type": "execute_result"
    }
   ],
   "source": [
    "cubs['ERA'].mean()"
   ]
  },
  {
   "cell_type": "markdown",
   "metadata": {},
   "source": [
    "### Overall we can see that the Cubs have a lower average ERA than league avg"
   ]
  },
  {
   "cell_type": "code",
   "execution_count": 101,
   "metadata": {},
   "outputs": [
    {
     "data": {
      "text/plain": [
       "True"
      ]
     },
     "execution_count": 101,
     "metadata": {},
     "output_type": "execute_result"
    }
   ],
   "source": [
    "cubs['ERA'].mean() < league_data['ERA'].mean()"
   ]
  },
  {
   "cell_type": "markdown",
   "metadata": {},
   "source": [
    "### Comparing correlation results on the entire population depicts a drop from a strong to moderate correlation for ERA and Wins  "
   ]
  },
  {
   "cell_type": "code",
   "execution_count": 115,
   "metadata": {},
   "outputs": [
    {
     "name": "stdout",
     "output_type": "stream",
     "text": [
      "-0.6554310081223031\n"
     ]
    }
   ],
   "source": [
    "print(correlation(league_data['ERA'], league_data['W']))"
   ]
  },
  {
   "cell_type": "code",
   "execution_count": 116,
   "metadata": {},
   "outputs": [
    {
     "name": "stderr",
     "output_type": "stream",
     "text": [
      "/usr/local/lib/python3.8/site-packages/seaborn/regression.py:574: UserWarning: The `size` parameter has been renamed to `height`; please update your code.\n",
      "  warnings.warn(msg, UserWarning)\n"
     ]
    },
    {
     "data": {
      "text/plain": [
       "Text(6.085000000000001, 0.5, 'Number of Wins')"
      ]
     },
     "execution_count": 116,
     "metadata": {},
     "output_type": "execute_result"
    },
    {
     "data": {
      "image/png": "[encoded data removed]",
      "text/plain": [
       "<Figure size 576x288 with 1 Axes>"
      ]
     },
     "metadata": {},
     "output_type": "display_data"
    }
   ],
   "source": [
    "sns.lmplot('ERA', \"W\", league_data, scatter_kws={'marker':'o', 'color': 'indianred'}, \n",
    "           line_kws={'linewidth':1,'color':'blue'}, size = 4, aspect = 2)\n",
    "\n",
    "plt.title('Correlation of ERA to Wins from 2010 to 2019: -0.655')\n",
    "plt.xlabel('ERA')\n",
    "plt.ylabel('Number of Wins')"
   ]
  },
  {
   "cell_type": "markdown",
   "metadata": {},
   "source": [
    "### Low correlation between ERA and PS appearance "
   ]
  },
  {
   "cell_type": "code",
   "execution_count": 117,
   "metadata": {},
   "outputs": [
    {
     "data": {
      "text/plain": [
       "(-0.4681482147309812, 5.20090647292408e-34)"
      ]
     },
     "execution_count": 117,
     "metadata": {},
     "output_type": "execute_result"
    }
   ],
   "source": [
    "pearsonr(league_obp['ERA'], league_obp['PS'])"
   ]
  },
  {
   "cell_type": "markdown",
   "metadata": {},
   "source": [
    "### Summary statistics on ERA"
   ]
  },
  {
   "cell_type": "code",
   "execution_count": 118,
   "metadata": {},
   "outputs": [
    {
     "data": {
      "text/plain": [
       "count    600.000000\n",
       "mean       4.248000\n",
       "std        0.534891\n",
       "min        2.940000\n",
       "25%        3.860000\n",
       "50%        4.205000\n",
       "75%        4.602500\n",
       "max        5.710000\n",
       "Name: ERA, dtype: float64"
      ]
     },
     "execution_count": 118,
     "metadata": {},
     "output_type": "execute_result"
    }
   ],
   "source": [
    "league_obp['ERA'].describe()"
   ]
  },
  {
   "cell_type": "markdown",
   "metadata": {},
   "source": [
    "### Pull out the teams in the top 25th percentile "
   ]
  },
  {
   "cell_type": "code",
   "execution_count": 158,
   "metadata": {},
   "outputs": [],
   "source": [
    "top_quarter_era = league_obp[(league_obp['ERA'] <= 3.860)][['yearID', 'franchID', 'teamID', 'PS', 'Rank', 'DivWin', 'LgWin', 'WCWin', 'WSWin', 'ERA', 'OBP', 'E', 'HR', 'R', 'H','2B', '3B', 'W']]"
   ]
  },
  {
   "cell_type": "markdown",
   "metadata": {},
   "source": [
    "### 62% of the teams in the top 25th percentile make the post season"
   ]
  },
  {
   "cell_type": "code",
   "execution_count": 159,
   "metadata": {
    "scrolled": true
   },
   "outputs": [
    {
     "data": {
      "text/plain": [
       "0.6225165562913907"
      ]
     },
     "execution_count": 159,
     "metadata": {},
     "output_type": "execute_result"
    }
   ],
   "source": [
    "top_quarter_era['PS'].mean()"
   ]
  },
  {
   "cell_type": "markdown",
   "metadata": {},
   "source": [
    "### 6.6% of the teams in the 25th percentile won the WS"
   ]
  },
  {
   "cell_type": "code",
   "execution_count": 170,
   "metadata": {},
   "outputs": [
    {
     "data": {
      "text/plain": [
       "6.622516556291391"
      ]
     },
     "execution_count": 170,
     "metadata": {},
     "output_type": "execute_result"
    }
   ],
   "source": [
    "(len(top_quarter_era[top_quarter_era['WSWin'] == 'Y']) / len(top_quarter_era)) * 100"
   ]
  },
  {
   "cell_type": "markdown",
   "metadata": {},
   "source": [
    "### What are the avg stats "
   ]
  },
  {
   "cell_type": "code",
   "execution_count": 163,
   "metadata": {},
   "outputs": [
    {
     "data": {
      "text/plain": [
       "yearID    2011.60000\n",
       "PS           1.00000\n",
       "Rank         1.30000\n",
       "ERA          3.60000\n",
       "OBP          0.33164\n",
       "E           93.10000\n",
       "HR         163.50000\n",
       "R          769.50000\n",
       "H         1486.00000\n",
       "2B         303.30000\n",
       "3B          33.80000\n",
       "W           96.50000\n",
       "dtype: float64"
      ]
     },
     "execution_count": 163,
     "metadata": {},
     "output_type": "execute_result"
    }
   ],
   "source": [
    "top_quarter_era[top_quarter_era['WSWin'] == 'Y'].mean()"
   ]
  },
  {
   "cell_type": "markdown",
   "metadata": {},
   "source": [
    "### Team with the lowest ERA"
   ]
  },
  {
   "cell_type": "code",
   "execution_count": 166,
   "metadata": {},
   "outputs": [
    {
     "data": {
      "text/html": [
       "<div>\n",
       "<style scoped>\n",
       "    .dataframe tbody tr th:only-of-type {\n",
       "        vertical-align: middle;\n",
       "    }\n",
       "\n",
       "    .dataframe tbody tr th {\n",
       "        vertical-align: top;\n",
       "    }\n",
       "\n",
       "    .dataframe thead th {\n",
       "        text-align: right;\n",
       "    }\n",
       "</style>\n",
       "<table border=\"1\" class=\"dataframe\">\n",
       "  <thead>\n",
       "    <tr style=\"text-align: right;\">\n",
       "      <th></th>\n",
       "      <th>yearID</th>\n",
       "      <th>franchID</th>\n",
       "      <th>teamID</th>\n",
       "      <th>PS</th>\n",
       "      <th>Rank</th>\n",
       "      <th>DivWin</th>\n",
       "      <th>LgWin</th>\n",
       "      <th>WCWin</th>\n",
       "      <th>WSWin</th>\n",
       "      <th>ERA</th>\n",
       "      <th>OBP</th>\n",
       "      <th>E</th>\n",
       "      <th>HR</th>\n",
       "      <th>R</th>\n",
       "      <th>H</th>\n",
       "      <th>2B</th>\n",
       "      <th>3B</th>\n",
       "      <th>W</th>\n",
       "    </tr>\n",
       "  </thead>\n",
       "  <tbody>\n",
       "    <tr>\n",
       "      <th>2800</th>\n",
       "      <td>2015</td>\n",
       "      <td>STL</td>\n",
       "      <td>SLN</td>\n",
       "      <td>True</td>\n",
       "      <td>1</td>\n",
       "      <td>Y</td>\n",
       "      <td>N</td>\n",
       "      <td>N</td>\n",
       "      <td>N</td>\n",
       "      <td>2.94</td>\n",
       "      <td>0.321089</td>\n",
       "      <td>96</td>\n",
       "      <td>137</td>\n",
       "      <td>647</td>\n",
       "      <td>1386</td>\n",
       "      <td>288</td>\n",
       "      <td>39</td>\n",
       "      <td>100</td>\n",
       "    </tr>\n",
       "  </tbody>\n",
       "</table>\n",
       "</div>"
      ],
      "text/plain": [
       "      yearID franchID teamID    PS  Rank DivWin LgWin WCWin WSWin   ERA  \\\n",
       "2800    2015      STL    SLN  True     1      Y     N     N     N  2.94   \n",
       "\n",
       "           OBP   E   HR    R     H   2B  3B    W  \n",
       "2800  0.321089  96  137  647  1386  288  39  100  "
      ]
     },
     "execution_count": 166,
     "metadata": {},
     "output_type": "execute_result"
    }
   ],
   "source": [
    "top_quarter_era[top_quarter_era['ERA'].min() == top_quarter_era['ERA']]"
   ]
  },
  {
   "cell_type": "markdown",
   "metadata": {},
   "source": [
    "### Team with the higest ERA "
   ]
  },
  {
   "cell_type": "code",
   "execution_count": 167,
   "metadata": {},
   "outputs": [
    {
     "data": {
      "text/html": [
       "<div>\n",
       "<style scoped>\n",
       "    .dataframe tbody tr th:only-of-type {\n",
       "        vertical-align: middle;\n",
       "    }\n",
       "\n",
       "    .dataframe tbody tr th {\n",
       "        vertical-align: top;\n",
       "    }\n",
       "\n",
       "    .dataframe thead th {\n",
       "        text-align: right;\n",
       "    }\n",
       "</style>\n",
       "<table border=\"1\" class=\"dataframe\">\n",
       "  <thead>\n",
       "    <tr style=\"text-align: right;\">\n",
       "      <th></th>\n",
       "      <th>yearID</th>\n",
       "      <th>franchID</th>\n",
       "      <th>teamID</th>\n",
       "      <th>PS</th>\n",
       "      <th>Rank</th>\n",
       "      <th>DivWin</th>\n",
       "      <th>LgWin</th>\n",
       "      <th>WCWin</th>\n",
       "      <th>WSWin</th>\n",
       "      <th>ERA</th>\n",
       "      <th>OBP</th>\n",
       "      <th>E</th>\n",
       "      <th>HR</th>\n",
       "      <th>R</th>\n",
       "      <th>H</th>\n",
       "      <th>2B</th>\n",
       "      <th>3B</th>\n",
       "      <th>W</th>\n",
       "    </tr>\n",
       "  </thead>\n",
       "  <tbody>\n",
       "    <tr>\n",
       "      <th>2427</th>\n",
       "      <td>2003</td>\n",
       "      <td>HOU</td>\n",
       "      <td>HOU</td>\n",
       "      <td>False</td>\n",
       "      <td>2</td>\n",
       "      <td>N</td>\n",
       "      <td>N</td>\n",
       "      <td>N</td>\n",
       "      <td>N</td>\n",
       "      <td>3.86</td>\n",
       "      <td>0.336156</td>\n",
       "      <td>95</td>\n",
       "      <td>191</td>\n",
       "      <td>805</td>\n",
       "      <td>1466</td>\n",
       "      <td>308</td>\n",
       "      <td>30</td>\n",
       "      <td>87</td>\n",
       "    </tr>\n",
       "    <tr>\n",
       "      <th>2706</th>\n",
       "      <td>2012</td>\n",
       "      <td>PIT</td>\n",
       "      <td>PIT</td>\n",
       "      <td>False</td>\n",
       "      <td>4</td>\n",
       "      <td>N</td>\n",
       "      <td>N</td>\n",
       "      <td>N</td>\n",
       "      <td>N</td>\n",
       "      <td>3.86</td>\n",
       "      <td>0.303763</td>\n",
       "      <td>112</td>\n",
       "      <td>170</td>\n",
       "      <td>651</td>\n",
       "      <td>1313</td>\n",
       "      <td>241</td>\n",
       "      <td>37</td>\n",
       "      <td>79</td>\n",
       "    </tr>\n",
       "  </tbody>\n",
       "</table>\n",
       "</div>"
      ],
      "text/plain": [
       "      yearID franchID teamID     PS  Rank DivWin LgWin WCWin WSWin   ERA  \\\n",
       "2427    2003      HOU    HOU  False     2      N     N     N     N  3.86   \n",
       "2706    2012      PIT    PIT  False     4      N     N     N     N  3.86   \n",
       "\n",
       "           OBP    E   HR    R     H   2B  3B   W  \n",
       "2427  0.336156   95  191  805  1466  308  30  87  \n",
       "2706  0.303763  112  170  651  1313  241  37  79  "
      ]
     },
     "execution_count": 167,
     "metadata": {},
     "output_type": "execute_result"
    }
   ],
   "source": [
    "top_quarter_era[top_quarter_era['ERA'].max() == top_quarter_era['ERA']]"
   ]
  },
  {
   "cell_type": "markdown",
   "metadata": {},
   "source": [
    "## ERA Conculsion\n",
    "- We observe that in sample (Cubs data) and population (League wide data) both have a negative correlation \n",
    "- There is a greater correlation coefficient for in sample than population\n",
    "- There is a rather large difference of 0.154 between in sample and population\n",
    "- There is a a low nearing moderate negative correlation between ERA and Post Season appearance\n",
    "- As expected, we can conclude that a team with a lower ERA has a better chance of winning more games. "
   ]
  },
  {
   "cell_type": "markdown",
   "metadata": {},
   "source": [
    "### Lets confirm the hypothesis that a higher team WAR is highly correlated to team wins \n",
    "(Batting Runs + Base Running Runs +Fielding Runs + Positional Adjustment + League Adjustment +Replacement Runs) / (Runs Per Win"
   ]
  },
  {
   "cell_type": "code",
   "execution_count": 49,
   "metadata": {},
   "outputs": [
    {
     "data": {
      "text/plain": [
       "Index(['yearID', 'lgID', 'teamID', 'franchID', 'divID', 'Rank', 'G', 'Ghome',\n",
       "       'W', 'L', 'DivWin', 'WCWin', 'LgWin', 'WSWin', 'R', 'AB', 'H', '2B',\n",
       "       '3B', 'HR', 'BB', 'SO', 'SB', 'CS', 'HBP', 'SF', 'RA', 'ER', 'ERA',\n",
       "       'CG', 'SHO', 'SV', 'IPouts', 'HA', 'HRA', 'BBA', 'SOA', 'E', 'DP', 'FP',\n",
       "       'name', 'park', 'attendance', 'BPF', 'PPF', 'teamIDBR',\n",
       "       'teamIDlahman45', 'teamIDretro', 'OBP'],\n",
       "      dtype='object')"
      ]
     },
     "execution_count": 49,
     "metadata": {},
     "output_type": "execute_result"
    }
   ],
   "source": [
    "cubs.columns"
   ]
  },
  {
   "cell_type": "markdown",
   "metadata": {},
   "source": [
    "### Pull in data from Fangraphs to calc team WAR by Position Players"
   ]
  },
  {
   "cell_type": "code",
   "execution_count": 50,
   "metadata": {},
   "outputs": [
    {
     "name": "stderr",
     "output_type": "stream",
     "text": [
      "/usr/local/lib/python3.8/site-packages/IPython/core/interactiveshell.py:3071: DtypeWarning: Columns (87) have mixed types.Specify dtype option on import or set low_memory=False.\n",
      "  has_raised = await self.run_ast_nodes(code_ast.body, cell_name,\n"
     ]
    }
   ],
   "source": [
    "fangraphs = pd.read_csv('../input/FanGraphsData.csv')"
   ]
  },
  {
   "cell_type": "code",
   "execution_count": 51,
   "metadata": {},
   "outputs": [
    {
     "data": {
      "text/plain": [
       "Index(['Season', 'Name', 'Team', 'Age', 'G', 'AB', 'PA', 'H', '1B', '2B',\n",
       "       ...\n",
       "       'GB%+', 'FB%+', 'HR/FB%+', 'Pull%+', 'Cent%+', 'Oppo%+', 'Soft%+',\n",
       "       'Med%+', 'Hard%+', 'playerid'],\n",
       "      dtype='object', length=305)"
      ]
     },
     "execution_count": 51,
     "metadata": {},
     "output_type": "execute_result"
    }
   ],
   "source": [
    "fangraphs.columns"
   ]
  },
  {
   "cell_type": "markdown",
   "metadata": {},
   "source": [
    "### Select Cubs players from 2006 to Present"
   ]
  },
  {
   "cell_type": "code",
   "execution_count": 52,
   "metadata": {},
   "outputs": [],
   "source": [
    "cubs_player_stats = fangraphs.loc[(fangraphs['Team'] == 'Cubs') & (fangraphs['Season'] >= 2006)]"
   ]
  },
  {
   "cell_type": "code",
   "execution_count": 53,
   "metadata": {},
   "outputs": [
    {
     "data": {
      "text/html": [
       "<div>\n",
       "<style scoped>\n",
       "    .dataframe tbody tr th:only-of-type {\n",
       "        vertical-align: middle;\n",
       "    }\n",
       "\n",
       "    .dataframe tbody tr th {\n",
       "        vertical-align: top;\n",
       "    }\n",
       "\n",
       "    .dataframe thead th {\n",
       "        text-align: right;\n",
       "    }\n",
       "</style>\n",
       "<table border=\"1\" class=\"dataframe\">\n",
       "  <thead>\n",
       "    <tr style=\"text-align: right;\">\n",
       "      <th></th>\n",
       "      <th>Season</th>\n",
       "      <th>WAR</th>\n",
       "    </tr>\n",
       "  </thead>\n",
       "  <tbody>\n",
       "    <tr>\n",
       "      <th>112</th>\n",
       "      <td>2006</td>\n",
       "      <td>3.7</td>\n",
       "    </tr>\n",
       "    <tr>\n",
       "      <th>141</th>\n",
       "      <td>2006</td>\n",
       "      <td>2.3</td>\n",
       "    </tr>\n",
       "    <tr>\n",
       "      <th>266</th>\n",
       "      <td>2006</td>\n",
       "      <td>0.7</td>\n",
       "    </tr>\n",
       "    <tr>\n",
       "      <th>328</th>\n",
       "      <td>2006</td>\n",
       "      <td>2.8</td>\n",
       "    </tr>\n",
       "    <tr>\n",
       "      <th>341</th>\n",
       "      <td>2006</td>\n",
       "      <td>1.4</td>\n",
       "    </tr>\n",
       "    <tr>\n",
       "      <th>738</th>\n",
       "      <td>2006</td>\n",
       "      <td>3.1</td>\n",
       "    </tr>\n",
       "    <tr>\n",
       "      <th>809</th>\n",
       "      <td>2006</td>\n",
       "      <td>0.7</td>\n",
       "    </tr>\n",
       "    <tr>\n",
       "      <th>849</th>\n",
       "      <td>2006</td>\n",
       "      <td>0.3</td>\n",
       "    </tr>\n",
       "    <tr>\n",
       "      <th>1062</th>\n",
       "      <td>2006</td>\n",
       "      <td>-0.6</td>\n",
       "    </tr>\n",
       "    <tr>\n",
       "      <th>1088</th>\n",
       "      <td>2006</td>\n",
       "      <td>-1.8</td>\n",
       "    </tr>\n",
       "  </tbody>\n",
       "</table>\n",
       "</div>"
      ],
      "text/plain": [
       "      Season  WAR\n",
       "112     2006  3.7\n",
       "141     2006  2.3\n",
       "266     2006  0.7\n",
       "328     2006  2.8\n",
       "341     2006  1.4\n",
       "738     2006  3.1\n",
       "809     2006  0.7\n",
       "849     2006  0.3\n",
       "1062    2006 -0.6\n",
       "1088    2006 -1.8"
      ]
     },
     "execution_count": 53,
     "metadata": {},
     "output_type": "execute_result"
    }
   ],
   "source": [
    "cubs_player_stats.loc[cubs_player_stats.Season == 2006][['Season','WAR']].sort_values(by=\"Season\")"
   ]
  },
  {
   "cell_type": "code",
   "execution_count": 54,
   "metadata": {},
   "outputs": [],
   "source": [
    "### Team data is only "
   ]
  },
  {
   "cell_type": "code",
   "execution_count": 55,
   "metadata": {},
   "outputs": [],
   "source": [
    "def calculate_war():\n",
    "    for year in cubs_player_stats.Season.unique():\n",
    "        war = cubs_player_stats['WAR'].loc[cubs_player_stats.Season == year].sum()\n",
    "        cubs.loc[cubs['yearID'] == year, 'WAR'] = np.round(war, 2)"
   ]
  },
  {
   "cell_type": "code",
   "execution_count": 56,
   "metadata": {},
   "outputs": [
    {
     "name": "stderr",
     "output_type": "stream",
     "text": [
      "/usr/local/lib/python3.8/site-packages/pandas/core/indexing.py:845: SettingWithCopyWarning: \n",
      "A value is trying to be set on a copy of a slice from a DataFrame.\n",
      "Try using .loc[row_indexer,col_indexer] = value instead\n",
      "\n",
      "See the caveats in the documentation: https://pandas.pydata.org/pandas-docs/stable/user_guide/indexing.html#returning-a-view-versus-a-copy\n",
      "  self.obj[key] = _infer_fill_value(value)\n",
      "/usr/local/lib/python3.8/site-packages/pandas/core/indexing.py:966: SettingWithCopyWarning: \n",
      "A value is trying to be set on a copy of a slice from a DataFrame.\n",
      "Try using .loc[row_indexer,col_indexer] = value instead\n",
      "\n",
      "See the caveats in the documentation: https://pandas.pydata.org/pandas-docs/stable/user_guide/indexing.html#returning-a-view-versus-a-copy\n",
      "  self.obj[item] = s\n"
     ]
    }
   ],
   "source": [
    "calculate_war()"
   ]
  },
  {
   "cell_type": "code",
   "execution_count": 57,
   "metadata": {},
   "outputs": [
    {
     "data": {
      "text/html": [
       "<div>\n",
       "<style scoped>\n",
       "    .dataframe tbody tr th:only-of-type {\n",
       "        vertical-align: middle;\n",
       "    }\n",
       "\n",
       "    .dataframe tbody tr th {\n",
       "        vertical-align: top;\n",
       "    }\n",
       "\n",
       "    .dataframe thead th {\n",
       "        text-align: right;\n",
       "    }\n",
       "</style>\n",
       "<table border=\"1\" class=\"dataframe\">\n",
       "  <thead>\n",
       "    <tr style=\"text-align: right;\">\n",
       "      <th></th>\n",
       "      <th>yearID</th>\n",
       "      <th>WAR</th>\n",
       "    </tr>\n",
       "  </thead>\n",
       "  <tbody>\n",
       "    <tr>\n",
       "      <th>2510</th>\n",
       "      <td>2006</td>\n",
       "      <td>12.6</td>\n",
       "    </tr>\n",
       "    <tr>\n",
       "      <th>2540</th>\n",
       "      <td>2007</td>\n",
       "      <td>22.0</td>\n",
       "    </tr>\n",
       "    <tr>\n",
       "      <th>2570</th>\n",
       "      <td>2008</td>\n",
       "      <td>26.8</td>\n",
       "    </tr>\n",
       "    <tr>\n",
       "      <th>2600</th>\n",
       "      <td>2009</td>\n",
       "      <td>12.5</td>\n",
       "    </tr>\n",
       "    <tr>\n",
       "      <th>2630</th>\n",
       "      <td>2010</td>\n",
       "      <td>14.5</td>\n",
       "    </tr>\n",
       "    <tr>\n",
       "      <th>2660</th>\n",
       "      <td>2011</td>\n",
       "      <td>15.8</td>\n",
       "    </tr>\n",
       "    <tr>\n",
       "      <th>2690</th>\n",
       "      <td>2012</td>\n",
       "      <td>12.8</td>\n",
       "    </tr>\n",
       "    <tr>\n",
       "      <th>2720</th>\n",
       "      <td>2013</td>\n",
       "      <td>10.7</td>\n",
       "    </tr>\n",
       "    <tr>\n",
       "      <th>2750</th>\n",
       "      <td>2014</td>\n",
       "      <td>13.3</td>\n",
       "    </tr>\n",
       "    <tr>\n",
       "      <th>2780</th>\n",
       "      <td>2015</td>\n",
       "      <td>26.5</td>\n",
       "    </tr>\n",
       "    <tr>\n",
       "      <th>2810</th>\n",
       "      <td>2016</td>\n",
       "      <td>35.4</td>\n",
       "    </tr>\n",
       "    <tr>\n",
       "      <th>2840</th>\n",
       "      <td>2017</td>\n",
       "      <td>25.1</td>\n",
       "    </tr>\n",
       "    <tr>\n",
       "      <th>2870</th>\n",
       "      <td>2018</td>\n",
       "      <td>24.9</td>\n",
       "    </tr>\n",
       "    <tr>\n",
       "      <th>2900</th>\n",
       "      <td>2019</td>\n",
       "      <td>22.5</td>\n",
       "    </tr>\n",
       "  </tbody>\n",
       "</table>\n",
       "</div>"
      ],
      "text/plain": [
       "      yearID   WAR\n",
       "2510    2006  12.6\n",
       "2540    2007  22.0\n",
       "2570    2008  26.8\n",
       "2600    2009  12.5\n",
       "2630    2010  14.5\n",
       "2660    2011  15.8\n",
       "2690    2012  12.8\n",
       "2720    2013  10.7\n",
       "2750    2014  13.3\n",
       "2780    2015  26.5\n",
       "2810    2016  35.4\n",
       "2840    2017  25.1\n",
       "2870    2018  24.9\n",
       "2900    2019  22.5"
      ]
     },
     "execution_count": 57,
     "metadata": {},
     "output_type": "execute_result"
    }
   ],
   "source": [
    "cubs[['yearID','WAR']].sort_values(by='yearID').tail(14)"
   ]
  },
  {
   "cell_type": "markdown",
   "metadata": {},
   "source": [
    "### Find correlation between Wins and Team War"
   ]
  },
  {
   "cell_type": "code",
   "execution_count": 58,
   "metadata": {},
   "outputs": [
    {
     "name": "stdout",
     "output_type": "stream",
     "text": [
      "0.9736568166910439\n"
     ]
    }
   ],
   "source": [
    "wins = cubs['W']\n",
    "war = cubs['WAR']\n",
    "\n",
    "print(correlation(war, wins))"
   ]
  },
  {
   "cell_type": "code",
   "execution_count": 59,
   "metadata": {},
   "outputs": [
    {
     "name": "stderr",
     "output_type": "stream",
     "text": [
      "/usr/local/lib/python3.8/site-packages/seaborn/regression.py:574: UserWarning: The `size` parameter has been renamed to `height`; please update your code.\n",
      "  warnings.warn(msg, UserWarning)\n"
     ]
    },
    {
     "data": {
      "text/plain": [
       "Text(6.085000000000001, 0.5, 'Number of Wins')"
      ]
     },
     "execution_count": 59,
     "metadata": {},
     "output_type": "execute_result"
    },
    {
     "data": {
      "image/png": "[encoded data removed]",
      "text/plain": [
       "<Figure size 576x288 with 1 Axes>"
      ]
     },
     "metadata": {},
     "output_type": "display_data"
    }
   ],
   "source": [
    "sns.lmplot('WAR', \"W\", cubs, scatter_kws={'marker':'o', 'color': 'indianred'}, \n",
    "           line_kws={'linewidth':1,'color':'blue'}, size = 4, aspect = 2)\n",
    "\n",
    "plt.title('Correlation of Team WAR to Wins from 2006 to 2019: 0.973')\n",
    "plt.xlabel('Team WAR')\n",
    "plt.ylabel('Number of Wins')"
   ]
  },
  {
   "cell_type": "code",
   "execution_count": 60,
   "metadata": {},
   "outputs": [],
   "source": [
    "cubs_player_stats['WAR'].max()\n",
    "low_war_player = cubs_player_stats[(cubs_player_stats['WAR'] < 0) & (cubs_player_stats['G'] > 81)][['Season','Name', 'Team', 'Age', 'G', 'WAR']]\n"
   ]
  },
  {
   "cell_type": "markdown",
   "metadata": {},
   "source": [
    "### Look at other stats that correlate"
   ]
  },
  {
   "cell_type": "code",
   "execution_count": null,
   "metadata": {},
   "outputs": [],
   "source": [
    "mask = np.tril(league_obp.corr())\n",
    "plt.figure(figsize = (25,25))\n",
    "sns.heatmap(league_obp.corr(), fmt='.1g', annot = True, cmap= 'Blues_r', mask=mask, linewidths=2, linecolor='whitesmoke')\n"
   ]
  },
  {
   "cell_type": "code",
   "execution_count": 61,
   "metadata": {},
   "outputs": [
    {
     "data": {
      "text/html": [
       "<div>\n",
       "<style scoped>\n",
       "    .dataframe tbody tr th:only-of-type {\n",
       "        vertical-align: middle;\n",
       "    }\n",
       "\n",
       "    .dataframe tbody tr th {\n",
       "        vertical-align: top;\n",
       "    }\n",
       "\n",
       "    .dataframe thead th {\n",
       "        text-align: right;\n",
       "    }\n",
       "</style>\n",
       "<table border=\"1\" class=\"dataframe\">\n",
       "  <thead>\n",
       "    <tr style=\"text-align: right;\">\n",
       "      <th></th>\n",
       "      <th>Season</th>\n",
       "      <th>Name</th>\n",
       "      <th>Team</th>\n",
       "      <th>Age</th>\n",
       "      <th>G</th>\n",
       "      <th>WAR</th>\n",
       "    </tr>\n",
       "  </thead>\n",
       "  <tbody>\n",
       "    <tr>\n",
       "      <th>1062</th>\n",
       "      <td>2006</td>\n",
       "      <td>John Mabry</td>\n",
       "      <td>Cubs</td>\n",
       "      <td>35</td>\n",
       "      <td>107</td>\n",
       "      <td>-0.6</td>\n",
       "    </tr>\n",
       "    <tr>\n",
       "      <th>1088</th>\n",
       "      <td>2006</td>\n",
       "      <td>Ronny Cedeno</td>\n",
       "      <td>Cubs</td>\n",
       "      <td>23</td>\n",
       "      <td>151</td>\n",
       "      <td>-1.8</td>\n",
       "    </tr>\n",
       "    <tr>\n",
       "      <th>2023</th>\n",
       "      <td>2009</td>\n",
       "      <td>Alfonso Soriano</td>\n",
       "      <td>Cubs</td>\n",
       "      <td>33</td>\n",
       "      <td>117</td>\n",
       "      <td>-0.1</td>\n",
       "    </tr>\n",
       "    <tr>\n",
       "      <th>2454</th>\n",
       "      <td>2009</td>\n",
       "      <td>Koyie Hill</td>\n",
       "      <td>Cubs</td>\n",
       "      <td>30</td>\n",
       "      <td>83</td>\n",
       "      <td>-0.5</td>\n",
       "    </tr>\n",
       "    <tr>\n",
       "      <th>2292</th>\n",
       "      <td>2010</td>\n",
       "      <td>Xavier Nady</td>\n",
       "      <td>Cubs</td>\n",
       "      <td>31</td>\n",
       "      <td>119</td>\n",
       "      <td>-0.7</td>\n",
       "    </tr>\n",
       "    <tr>\n",
       "      <th>2605</th>\n",
       "      <td>2012</td>\n",
       "      <td>Joe Mather</td>\n",
       "      <td>Cubs</td>\n",
       "      <td>29</td>\n",
       "      <td>103</td>\n",
       "      <td>-1.2</td>\n",
       "    </tr>\n",
       "    <tr>\n",
       "      <th>3771</th>\n",
       "      <td>2013</td>\n",
       "      <td>Darwin Barney</td>\n",
       "      <td>Cubs</td>\n",
       "      <td>27</td>\n",
       "      <td>141</td>\n",
       "      <td>-0.3</td>\n",
       "    </tr>\n",
       "    <tr>\n",
       "      <th>3694</th>\n",
       "      <td>2014</td>\n",
       "      <td>Mike Olt</td>\n",
       "      <td>Cubs</td>\n",
       "      <td>25</td>\n",
       "      <td>89</td>\n",
       "      <td>-0.5</td>\n",
       "    </tr>\n",
       "    <tr>\n",
       "      <th>3732</th>\n",
       "      <td>2014</td>\n",
       "      <td>Junior Lake</td>\n",
       "      <td>Cubs</td>\n",
       "      <td>24</td>\n",
       "      <td>108</td>\n",
       "      <td>-0.4</td>\n",
       "    </tr>\n",
       "    <tr>\n",
       "      <th>5240</th>\n",
       "      <td>2019</td>\n",
       "      <td>Albert Almora Jr.</td>\n",
       "      <td>Cubs</td>\n",
       "      <td>25</td>\n",
       "      <td>130</td>\n",
       "      <td>-0.7</td>\n",
       "    </tr>\n",
       "    <tr>\n",
       "      <th>5358</th>\n",
       "      <td>2019</td>\n",
       "      <td>Daniel Descalso</td>\n",
       "      <td>Cubs</td>\n",
       "      <td>32</td>\n",
       "      <td>82</td>\n",
       "      <td>-0.8</td>\n",
       "    </tr>\n",
       "  </tbody>\n",
       "</table>\n",
       "</div>"
      ],
      "text/plain": [
       "      Season               Name  Team  Age    G  WAR\n",
       "1062    2006         John Mabry  Cubs   35  107 -0.6\n",
       "1088    2006       Ronny Cedeno  Cubs   23  151 -1.8\n",
       "2023    2009    Alfonso Soriano  Cubs   33  117 -0.1\n",
       "2454    2009         Koyie Hill  Cubs   30   83 -0.5\n",
       "2292    2010        Xavier Nady  Cubs   31  119 -0.7\n",
       "2605    2012         Joe Mather  Cubs   29  103 -1.2\n",
       "3771    2013      Darwin Barney  Cubs   27  141 -0.3\n",
       "3694    2014           Mike Olt  Cubs   25   89 -0.5\n",
       "3732    2014        Junior Lake  Cubs   24  108 -0.4\n",
       "5240    2019  Albert Almora Jr.  Cubs   25  130 -0.7\n",
       "5358    2019    Daniel Descalso  Cubs   32   82 -0.8"
      ]
     },
     "execution_count": 61,
     "metadata": {},
     "output_type": "execute_result"
    }
   ],
   "source": [
    "low_war_player.sort_values(by='Season')"
   ]
  },
  {
   "cell_type": "code",
   "execution_count": 62,
   "metadata": {},
   "outputs": [
    {
     "data": {
      "text/plain": [
       "2014    2\n",
       "2009    2\n",
       "2006    2\n",
       "2019    2\n",
       "2013    1\n",
       "2012    1\n",
       "2010    1\n",
       "Name: Season, dtype: int64"
      ]
     },
     "execution_count": 62,
     "metadata": {},
     "output_type": "execute_result"
    }
   ],
   "source": [
    "low_war_player['Season'].value_counts()"
   ]
  },
  {
   "cell_type": "code",
   "execution_count": 63,
   "metadata": {},
   "outputs": [
    {
     "data": {
      "text/html": [
       "<div>\n",
       "<style scoped>\n",
       "    .dataframe tbody tr th:only-of-type {\n",
       "        vertical-align: middle;\n",
       "    }\n",
       "\n",
       "    .dataframe tbody tr th {\n",
       "        vertical-align: top;\n",
       "    }\n",
       "\n",
       "    .dataframe thead th {\n",
       "        text-align: right;\n",
       "    }\n",
       "</style>\n",
       "<table border=\"1\" class=\"dataframe\">\n",
       "  <thead>\n",
       "    <tr style=\"text-align: right;\">\n",
       "      <th></th>\n",
       "      <th>Season</th>\n",
       "      <th>Name</th>\n",
       "      <th>Team</th>\n",
       "      <th>Age</th>\n",
       "      <th>G</th>\n",
       "      <th>WAR</th>\n",
       "    </tr>\n",
       "  </thead>\n",
       "  <tbody>\n",
       "    <tr>\n",
       "      <th>91</th>\n",
       "      <td>2007</td>\n",
       "      <td>Aramis Ramirez</td>\n",
       "      <td>Cubs</td>\n",
       "      <td>29</td>\n",
       "      <td>132</td>\n",
       "      <td>4.8</td>\n",
       "    </tr>\n",
       "    <tr>\n",
       "      <th>128</th>\n",
       "      <td>2007</td>\n",
       "      <td>Alfonso Soriano</td>\n",
       "      <td>Cubs</td>\n",
       "      <td>31</td>\n",
       "      <td>135</td>\n",
       "      <td>6.7</td>\n",
       "    </tr>\n",
       "    <tr>\n",
       "      <th>94</th>\n",
       "      <td>2008</td>\n",
       "      <td>Aramis Ramirez</td>\n",
       "      <td>Cubs</td>\n",
       "      <td>30</td>\n",
       "      <td>149</td>\n",
       "      <td>4.5</td>\n",
       "    </tr>\n",
       "    <tr>\n",
       "      <th>163</th>\n",
       "      <td>2008</td>\n",
       "      <td>Mark DeRosa</td>\n",
       "      <td>Cubs</td>\n",
       "      <td>33</td>\n",
       "      <td>149</td>\n",
       "      <td>4.2</td>\n",
       "    </tr>\n",
       "    <tr>\n",
       "      <th>1157</th>\n",
       "      <td>2009</td>\n",
       "      <td>Derrek Lee</td>\n",
       "      <td>Cubs</td>\n",
       "      <td>33</td>\n",
       "      <td>141</td>\n",
       "      <td>5.2</td>\n",
       "    </tr>\n",
       "    <tr>\n",
       "      <th>1215</th>\n",
       "      <td>2010</td>\n",
       "      <td>Geovany Soto</td>\n",
       "      <td>Cubs</td>\n",
       "      <td>27</td>\n",
       "      <td>105</td>\n",
       "      <td>4.1</td>\n",
       "    </tr>\n",
       "    <tr>\n",
       "      <th>2705</th>\n",
       "      <td>2014</td>\n",
       "      <td>Anthony Rizzo</td>\n",
       "      <td>Cubs</td>\n",
       "      <td>24</td>\n",
       "      <td>140</td>\n",
       "      <td>5.3</td>\n",
       "    </tr>\n",
       "    <tr>\n",
       "      <th>2759</th>\n",
       "      <td>2015</td>\n",
       "      <td>Kris Bryant</td>\n",
       "      <td>Cubs</td>\n",
       "      <td>23</td>\n",
       "      <td>151</td>\n",
       "      <td>6.1</td>\n",
       "    </tr>\n",
       "    <tr>\n",
       "      <th>2727</th>\n",
       "      <td>2015</td>\n",
       "      <td>Anthony Rizzo</td>\n",
       "      <td>Cubs</td>\n",
       "      <td>25</td>\n",
       "      <td>160</td>\n",
       "      <td>5.2</td>\n",
       "    </tr>\n",
       "    <tr>\n",
       "      <th>3871</th>\n",
       "      <td>2016</td>\n",
       "      <td>Kris Bryant</td>\n",
       "      <td>Cubs</td>\n",
       "      <td>24</td>\n",
       "      <td>155</td>\n",
       "      <td>7.9</td>\n",
       "    </tr>\n",
       "    <tr>\n",
       "      <th>3886</th>\n",
       "      <td>2016</td>\n",
       "      <td>Anthony Rizzo</td>\n",
       "      <td>Cubs</td>\n",
       "      <td>26</td>\n",
       "      <td>155</td>\n",
       "      <td>4.9</td>\n",
       "    </tr>\n",
       "    <tr>\n",
       "      <th>4005</th>\n",
       "      <td>2016</td>\n",
       "      <td>Dexter Fowler</td>\n",
       "      <td>Cubs</td>\n",
       "      <td>30</td>\n",
       "      <td>125</td>\n",
       "      <td>4.6</td>\n",
       "    </tr>\n",
       "    <tr>\n",
       "      <th>3864</th>\n",
       "      <td>2017</td>\n",
       "      <td>Kris Bryant</td>\n",
       "      <td>Cubs</td>\n",
       "      <td>25</td>\n",
       "      <td>151</td>\n",
       "      <td>6.7</td>\n",
       "    </tr>\n",
       "    <tr>\n",
       "      <th>3926</th>\n",
       "      <td>2017</td>\n",
       "      <td>Anthony Rizzo</td>\n",
       "      <td>Cubs</td>\n",
       "      <td>27</td>\n",
       "      <td>157</td>\n",
       "      <td>4.1</td>\n",
       "    </tr>\n",
       "    <tr>\n",
       "      <th>4013</th>\n",
       "      <td>2018</td>\n",
       "      <td>Javier Baez</td>\n",
       "      <td>Cubs</td>\n",
       "      <td>25</td>\n",
       "      <td>160</td>\n",
       "      <td>5.3</td>\n",
       "    </tr>\n",
       "    <tr>\n",
       "      <th>3929</th>\n",
       "      <td>2019</td>\n",
       "      <td>Kris Bryant</td>\n",
       "      <td>Cubs</td>\n",
       "      <td>27</td>\n",
       "      <td>147</td>\n",
       "      <td>4.8</td>\n",
       "    </tr>\n",
       "    <tr>\n",
       "      <th>4197</th>\n",
       "      <td>2019</td>\n",
       "      <td>Javier Baez</td>\n",
       "      <td>Cubs</td>\n",
       "      <td>26</td>\n",
       "      <td>138</td>\n",
       "      <td>4.4</td>\n",
       "    </tr>\n",
       "  </tbody>\n",
       "</table>\n",
       "</div>"
      ],
      "text/plain": [
       "      Season             Name  Team  Age    G  WAR\n",
       "91      2007   Aramis Ramirez  Cubs   29  132  4.8\n",
       "128     2007  Alfonso Soriano  Cubs   31  135  6.7\n",
       "94      2008   Aramis Ramirez  Cubs   30  149  4.5\n",
       "163     2008      Mark DeRosa  Cubs   33  149  4.2\n",
       "1157    2009       Derrek Lee  Cubs   33  141  5.2\n",
       "1215    2010     Geovany Soto  Cubs   27  105  4.1\n",
       "2705    2014    Anthony Rizzo  Cubs   24  140  5.3\n",
       "2759    2015      Kris Bryant  Cubs   23  151  6.1\n",
       "2727    2015    Anthony Rizzo  Cubs   25  160  5.2\n",
       "3871    2016      Kris Bryant  Cubs   24  155  7.9\n",
       "3886    2016    Anthony Rizzo  Cubs   26  155  4.9\n",
       "4005    2016    Dexter Fowler  Cubs   30  125  4.6\n",
       "3864    2017      Kris Bryant  Cubs   25  151  6.7\n",
       "3926    2017    Anthony Rizzo  Cubs   27  157  4.1\n",
       "4013    2018      Javier Baez  Cubs   25  160  5.3\n",
       "3929    2019      Kris Bryant  Cubs   27  147  4.8\n",
       "4197    2019      Javier Baez  Cubs   26  138  4.4"
      ]
     },
     "execution_count": 63,
     "metadata": {},
     "output_type": "execute_result"
    }
   ],
   "source": [
    "high_war_player = cubs_player_stats[cubs_player_stats['WAR'] > 4]\n",
    "high_war_player[['Season', 'Name', 'Team', 'Age', 'G', 'WAR']].sort_values(by='Season')"
   ]
  },
  {
   "cell_type": "code",
   "execution_count": 64,
   "metadata": {},
   "outputs": [
    {
     "data": {
      "text/html": [
       "<div>\n",
       "<style scoped>\n",
       "    .dataframe tbody tr th:only-of-type {\n",
       "        vertical-align: middle;\n",
       "    }\n",
       "\n",
       "    .dataframe tbody tr th {\n",
       "        vertical-align: top;\n",
       "    }\n",
       "\n",
       "    .dataframe thead th {\n",
       "        text-align: right;\n",
       "    }\n",
       "</style>\n",
       "<table border=\"1\" class=\"dataframe\">\n",
       "  <thead>\n",
       "    <tr style=\"text-align: right;\">\n",
       "      <th></th>\n",
       "      <th>Age</th>\n",
       "      <th>WAR</th>\n",
       "      <th>G</th>\n",
       "      <th>AVG</th>\n",
       "      <th>H</th>\n",
       "      <th>HR</th>\n",
       "      <th>Season</th>\n",
       "    </tr>\n",
       "  </thead>\n",
       "  <tbody>\n",
       "    <tr>\n",
       "      <th>1515</th>\n",
       "      <td>22</td>\n",
       "      <td>1.6</td>\n",
       "      <td>87</td>\n",
       "      <td>0.285</td>\n",
       "      <td>96</td>\n",
       "      <td>15</td>\n",
       "      <td>2012</td>\n",
       "    </tr>\n",
       "    <tr>\n",
       "      <th>3117</th>\n",
       "      <td>23</td>\n",
       "      <td>1.8</td>\n",
       "      <td>160</td>\n",
       "      <td>0.233</td>\n",
       "      <td>141</td>\n",
       "      <td>23</td>\n",
       "      <td>2013</td>\n",
       "    </tr>\n",
       "    <tr>\n",
       "      <th>2705</th>\n",
       "      <td>24</td>\n",
       "      <td>5.3</td>\n",
       "      <td>140</td>\n",
       "      <td>0.286</td>\n",
       "      <td>150</td>\n",
       "      <td>32</td>\n",
       "      <td>2014</td>\n",
       "    </tr>\n",
       "    <tr>\n",
       "      <th>2727</th>\n",
       "      <td>25</td>\n",
       "      <td>5.2</td>\n",
       "      <td>160</td>\n",
       "      <td>0.278</td>\n",
       "      <td>163</td>\n",
       "      <td>31</td>\n",
       "      <td>2015</td>\n",
       "    </tr>\n",
       "    <tr>\n",
       "      <th>3886</th>\n",
       "      <td>26</td>\n",
       "      <td>4.9</td>\n",
       "      <td>155</td>\n",
       "      <td>0.292</td>\n",
       "      <td>170</td>\n",
       "      <td>32</td>\n",
       "      <td>2016</td>\n",
       "    </tr>\n",
       "    <tr>\n",
       "      <th>3926</th>\n",
       "      <td>27</td>\n",
       "      <td>4.1</td>\n",
       "      <td>157</td>\n",
       "      <td>0.273</td>\n",
       "      <td>156</td>\n",
       "      <td>32</td>\n",
       "      <td>2017</td>\n",
       "    </tr>\n",
       "    <tr>\n",
       "      <th>4076</th>\n",
       "      <td>28</td>\n",
       "      <td>2.9</td>\n",
       "      <td>153</td>\n",
       "      <td>0.283</td>\n",
       "      <td>160</td>\n",
       "      <td>25</td>\n",
       "      <td>2018</td>\n",
       "    </tr>\n",
       "    <tr>\n",
       "      <th>3891</th>\n",
       "      <td>29</td>\n",
       "      <td>4.0</td>\n",
       "      <td>146</td>\n",
       "      <td>0.293</td>\n",
       "      <td>150</td>\n",
       "      <td>27</td>\n",
       "      <td>2019</td>\n",
       "    </tr>\n",
       "  </tbody>\n",
       "</table>\n",
       "</div>"
      ],
      "text/plain": [
       "      Age  WAR    G    AVG    H  HR  Season\n",
       "1515   22  1.6   87  0.285   96  15    2012\n",
       "3117   23  1.8  160  0.233  141  23    2013\n",
       "2705   24  5.3  140  0.286  150  32    2014\n",
       "2727   25  5.2  160  0.278  163  31    2015\n",
       "3886   26  4.9  155  0.292  170  32    2016\n",
       "3926   27  4.1  157  0.273  156  32    2017\n",
       "4076   28  2.9  153  0.283  160  25    2018\n",
       "3891   29  4.0  146  0.293  150  27    2019"
      ]
     },
     "execution_count": 64,
     "metadata": {},
     "output_type": "execute_result"
    }
   ],
   "source": [
    "cubs_player_stats[cubs_player_stats.Name == 'Anthony Rizzo'][['Age','WAR', 'G', 'AVG', 'H', 'HR','Season']].sort_values(by='Season')"
   ]
  },
  {
   "cell_type": "code",
   "execution_count": 65,
   "metadata": {},
   "outputs": [
    {
     "data": {
      "text/plain": [
       "<matplotlib.axes._subplots.AxesSubplot at 0x13d805bb0>"
      ]
     },
     "execution_count": 65,
     "metadata": {},
     "output_type": "execute_result"
    },
    {
     "data": {
      "image/png": "[encoded data removed]",
      "text/plain": [
       "<Figure size 432x288 with 1 Axes>"
      ]
     },
     "metadata": {},
     "output_type": "display_data"
    }
   ],
   "source": [
    "cubs_player_stats[cubs_player_stats.Name == 'Anthony Rizzo'][['WAR', 'Age']].sort_values(by='Age').plot(x='Age', y='WAR', kind='bar')"
   ]
  },
  {
   "cell_type": "code",
   "execution_count": 66,
   "metadata": {},
   "outputs": [
    {
     "data": {
      "text/html": [
       "<div>\n",
       "<style scoped>\n",
       "    .dataframe tbody tr th:only-of-type {\n",
       "        vertical-align: middle;\n",
       "    }\n",
       "\n",
       "    .dataframe tbody tr th {\n",
       "        vertical-align: top;\n",
       "    }\n",
       "\n",
       "    .dataframe thead th {\n",
       "        text-align: right;\n",
       "    }\n",
       "</style>\n",
       "<table border=\"1\" class=\"dataframe\">\n",
       "  <thead>\n",
       "    <tr style=\"text-align: right;\">\n",
       "      <th></th>\n",
       "      <th>Age</th>\n",
       "      <th>G</th>\n",
       "      <th>WAR</th>\n",
       "      <th>Season</th>\n",
       "    </tr>\n",
       "  </thead>\n",
       "  <tbody>\n",
       "    <tr>\n",
       "      <th>3997</th>\n",
       "      <td>27</td>\n",
       "      <td>105</td>\n",
       "      <td>2.7</td>\n",
       "      <td>2019</td>\n",
       "    </tr>\n",
       "    <tr>\n",
       "      <th>4038</th>\n",
       "      <td>24</td>\n",
       "      <td>76</td>\n",
       "      <td>2.5</td>\n",
       "      <td>2016</td>\n",
       "    </tr>\n",
       "    <tr>\n",
       "      <th>4044</th>\n",
       "      <td>25</td>\n",
       "      <td>117</td>\n",
       "      <td>2.4</td>\n",
       "      <td>2017</td>\n",
       "    </tr>\n",
       "    <tr>\n",
       "      <th>4594</th>\n",
       "      <td>26</td>\n",
       "      <td>138</td>\n",
       "      <td>0.7</td>\n",
       "      <td>2018</td>\n",
       "    </tr>\n",
       "  </tbody>\n",
       "</table>\n",
       "</div>"
      ],
      "text/plain": [
       "      Age    G  WAR  Season\n",
       "3997   27  105  2.7    2019\n",
       "4038   24   76  2.5    2016\n",
       "4044   25  117  2.4    2017\n",
       "4594   26  138  0.7    2018"
      ]
     },
     "execution_count": 66,
     "metadata": {},
     "output_type": "execute_result"
    }
   ],
   "source": [
    "cubs_player_stats[cubs_player_stats.Name.str.contains('Willson')][['Age','G','WAR', 'Season']]"
   ]
  },
  {
   "cell_type": "code",
   "execution_count": 67,
   "metadata": {},
   "outputs": [
    {
     "data": {
      "text/html": [
       "<div>\n",
       "<style scoped>\n",
       "    .dataframe tbody tr th:only-of-type {\n",
       "        vertical-align: middle;\n",
       "    }\n",
       "\n",
       "    .dataframe tbody tr th {\n",
       "        vertical-align: top;\n",
       "    }\n",
       "\n",
       "    .dataframe thead th {\n",
       "        text-align: right;\n",
       "    }\n",
       "</style>\n",
       "<table border=\"1\" class=\"dataframe\">\n",
       "  <thead>\n",
       "    <tr style=\"text-align: right;\">\n",
       "      <th></th>\n",
       "      <th>Age</th>\n",
       "      <th>G</th>\n",
       "      <th>WAR</th>\n",
       "      <th>Season</th>\n",
       "    </tr>\n",
       "  </thead>\n",
       "  <tbody>\n",
       "    <tr>\n",
       "      <th>3997</th>\n",
       "      <td>27</td>\n",
       "      <td>105</td>\n",
       "      <td>2.7</td>\n",
       "      <td>2019</td>\n",
       "    </tr>\n",
       "    <tr>\n",
       "      <th>4038</th>\n",
       "      <td>24</td>\n",
       "      <td>76</td>\n",
       "      <td>2.5</td>\n",
       "      <td>2016</td>\n",
       "    </tr>\n",
       "    <tr>\n",
       "      <th>4044</th>\n",
       "      <td>25</td>\n",
       "      <td>117</td>\n",
       "      <td>2.4</td>\n",
       "      <td>2017</td>\n",
       "    </tr>\n",
       "    <tr>\n",
       "      <th>4594</th>\n",
       "      <td>26</td>\n",
       "      <td>138</td>\n",
       "      <td>0.7</td>\n",
       "      <td>2018</td>\n",
       "    </tr>\n",
       "  </tbody>\n",
       "</table>\n",
       "</div>"
      ],
      "text/plain": [
       "      Age    G  WAR  Season\n",
       "3997   27  105  2.7    2019\n",
       "4038   24   76  2.5    2016\n",
       "4044   25  117  2.4    2017\n",
       "4594   26  138  0.7    2018"
      ]
     },
     "execution_count": 67,
     "metadata": {},
     "output_type": "execute_result"
    }
   ],
   "source": [
    "cubs_player_stats[cubs_player_stats.Name == 'Willson Contreras'][['Age','G','WAR', 'Season']]"
   ]
  },
  {
   "cell_type": "code",
   "execution_count": null,
   "metadata": {},
   "outputs": [],
   "source": []
  },
  {
   "cell_type": "code",
   "execution_count": null,
   "metadata": {},
   "outputs": [],
   "source": []
  },
  {
   "cell_type": "code",
   "execution_count": null,
   "metadata": {},
   "outputs": [],
   "source": []
  }
 ],
 "metadata": {
  "kernelspec": {
   "display_name": "Python 3",
   "language": "python",
   "name": "python3"
  },
  "language_info": {
   "codemirror_mode": {
    "name": "ipython",
    "version": 3
   },
   "file_extension": ".py",
   "mimetype": "text/x-python",
   "name": "python",
   "nbconvert_exporter": "python",
   "pygments_lexer": "ipython3",
   "version": "3.8.3"
  }
 },
 "nbformat": 4,
 "nbformat_minor": 2
}
