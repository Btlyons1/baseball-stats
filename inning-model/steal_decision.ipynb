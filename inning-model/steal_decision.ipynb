{
 "cells": [
  {
   "cell_type": "code",
   "execution_count": 55,
   "metadata": {},
   "outputs": [],
   "source": [
    "# Import libraries\n",
    "import numpy as np\n",
    "import matplotlib.pyplot as plt\n",
    "%matplotlib inline"
   ]
  },
  {
   "cell_type": "code",
   "execution_count": null,
   "metadata": {},
   "outputs": [
    {
     "ename": "SyntaxError",
     "evalue": "invalid syntax (<ipython-input-62-9bd6d7fb0864>, line 1)",
     "traceback": [
      "\u001b[0;36m  File \u001b[0;32m\"<ipython-input-62-9bd6d7fb0864>\"\u001b[0;36m, line \u001b[0;32m1\u001b[0m\n\u001b[0;31m    */\u001b[0m\n\u001b[0m     ^\u001b[0m\n\u001b[0;31mSyntaxError\u001b[0m\u001b[0;31m:\u001b[0m invalid syntax\n"
     ],
     "output_type": "error"
    }
   ],
   "source": [
    "'''\n",
    "model each half-inning of a baseball game as a state-machine or Markov chain. \n",
    "Intuitively, this means that each half-inning goes from one state to the next \n",
    "(with a certain probability, depending on what the players on the field do) on every play\n",
    "\n",
    "tuple (number of outs, base occupancy)\n",
    "\n",
    "The first state variable, \"number of outs\", obviously starts at 0 and keeps increasing \n",
    "until the batting team has made 3 outs in that half-inning\n",
    "\n",
    "The other state variable, \"base occupancy\", starts at 000 (signifying empty bases) and \n",
    "during the course of the inning can take values 001 (runner at first, second and third empty), \n",
    "010 (runner at second, first and third empty) etc., all the way up to 111 (bases loaded).\n",
    "\n",
    "we will express these binary-valued triplets as integers, so that 000 maps to 0, 001 to 1,\n",
    "010 to 2, etc. With this compact notation, the \"base occupancy\" state variable can assume \n",
    "values from 0 to 7.\n",
    "\n",
    "The key to solving a dynamic programming problem is the evaluation of the value function \n",
    "(typically denoted by V), which represents the optimal value of the objective in each state\n",
    "\n",
    "To simplify the problem, we will assume that once the current batter makes an out or gets on base, \n",
    "the subsequent batter will deliver an at-bat consistent with the league average\n",
    "\n",
    "This allows us to leverage what is known as the run expectancy matrix (R),\n",
    "which tells us the expected number of runs scored on an average (across MLB) \n",
    "in an half-inning, starting from any state (i.e., number of outs and base occupancy)\n",
    "\n",
    "\n",
    "'''\n",
    "\n",
    "# Method to compute value function and decision for the \"to steal or not to steal\" problem \n",
    "def run_dynamic_program(R, p, p_steal):\n",
    "\n",
    "    # Value function\n",
    "    V = np.zeros([4, 3])\n",
    "\n",
    "    # Decision to steal vs. no-steal\n",
    "    steal_decision = np.zeros([3, 1])\n",
    "\n",
    "    for out in range(2, -1, -1):\n",
    "        # Runner on 2nd\n",
    "        V[out, 2] = p[0] * R[out+1, 2] + p[1] * (R[out, 1] + 1) + p[2] * (R[out, 2] + 1) + p[3] * (R[out, 3] + 1) + p[4]*(R[out, 0] + 2)\n",
    "\n",
    "        # Bases empty\n",
    "        V[out, 0] = p[0] * R[out+1, 0] + p[1] * R[out, 1] + p[2] * R[out, 2] + p[3] * R[out, 3] + p[4] * (R[out, 0] + 1)\n",
    "\n",
    "        # Runner on 1st\n",
    "        value_steal = p_steal * V[out, 2] + (1 - p_steal) * V[out+1, 0]\n",
    "        value_no_steal = p[0] * R[out+1, 1] + p[1] * R[out, 3] + p[2] * R[out, 6] + p[3] * (R[out, 4] + 1) + p[4] * (R[out, 0] + 2)\n",
    "        V[out, 1] = np.max([value_steal, value_no_steal])\n",
    "\n",
    "        # Optimal decision\n",
    "        steal_decision[out] = (value_steal > value_no_steal)\n",
    "    return V, steal_decision"
   ]
  },
  {
   "cell_type": "code",
   "execution_count": 57,
   "metadata": {},
   "outputs": [
    {
     "name": "stdout",
     "output_type": "stream",
     "text": [
      "When the probability of a successful steal is  0.5 :\n",
      "With  0 out(s), optimal decision is to not steal\n",
      "With  1 out(s), optimal decision is to not steal\n",
      "With  2 out(s), optimal decision is to steal\n"
     ]
    }
   ],
   "source": [
    "# Run expectancy matrix for teh 2010-2015 MLB seasonx\n",
    "R = np.matrix([[0.481, 0.254, 0.098, 0],\n",
    "               [0.859, 0.509, 0.224, 0],\n",
    "               [1.100, 0.664, 0.319, 0],\n",
    "               [1.437, 0.884, 0.429, 0],\n",
    "               [1.350, 0.950, 0.353, 0],\n",
    "               [1.784, 1.130, 0.478, 0],\n",
    "               [1.964, 1.376, 0.580, 0],\n",
    "               [2.292, 1.541, 0.752, 0]])\n",
    "R = R.transpose()\n",
    "\n",
    "# Batter stats for Mike Trout's 2016 season \n",
    "p_out = 0.559\n",
    "p_single_or_walk = 0.343\n",
    "p_double = 0.047\n",
    "p_triple = 0.007\n",
    "p_home_run = 0.043\n",
    "\n",
    "p_batter = np.array([p_out, p_single_or_walk, p_double, p_triple, p_home_run])\n",
    "\n",
    "# Assumption that the runners [robability of stealing is 50-50 or 50% success\n",
    "p_steal = 0.5\n",
    "\n",
    "# Solve dynamic program\n",
    "V, steal_decision = run_dynamic_program(R, p_batter, p_steal)\n",
    "\n",
    "# steal decision. I'd be less inclined to have a runner steal when Mike Trout is batting expect with \n",
    "# two outs and two strikes. \n",
    "print(\"When the probability of a successful steal is \", 0.5, \":\")\n",
    "for out in range(0, 3):\n",
    "    if (steal_decision[out]):\n",
    "        print(\"With \", out, \"out(s), optimal decision is to steal\")\n",
    "    else:\n",
    "        print(\"With \", out, \"out(s), optimal decision is to not steal\")"
   ]
  },
  {
   "cell_type": "code",
   "execution_count": 58,
   "metadata": {},
   "outputs": [],
   "source": [
    "'''\n",
    "Simulate where we vary the probability of successful steal from 0 to 1\n",
    "This will allow us to see how the optimal decision evolves with a different number of outs\n",
    "'''\n",
    "opt_decision = np.empty([0, 3])\n",
    "for p_steal in np.arange(0, 1, 0.05):\n",
    "    V, steal_decision = run_dynamic_program(R, p_batter, p_steal)\n",
    "    opt_decision = np.append(opt_decision, steal_decision.reshape([1, 3]), axis=0)"
   ]
  },
  {
   "cell_type": "code",
   "execution_count": 59,
   "metadata": {},
   "outputs": [
    {
     "data": {
      "image/png": "[encoded data removed]",
      "text/plain": [
       "<Figure size 432x288 with 1 Axes>"
      ]
     },
     "metadata": {
      "needs_background": "light"
     },
     "output_type": "display_data"
    }
   ],
   "source": [
    "    # Visulaize the results \n",
    "    plt.plot(np.arange(0, 1, 0.05), opt_decision[:, 0], 'b', label=\"0 outs\")\n",
    "    plt.plot(np.arange(0, 1, 0.05), opt_decision[:, 1], 'r', label=\"1 out\")\n",
    "    plt.plot(np.arange(0, 1, 0.05), opt_decision[:, 2], 'g', label=\"2 outs\")\n",
    "    plt.xlabel(\"Probability of successful steal\")\n",
    "    plt.ylabel(\"Optimal decision (1 = steal)\")\n",
    "    plt.legend(loc=\"upper left\")\n",
    "    plt.show()"
   ]
  },
  {
   "cell_type": "code",
   "execution_count": null,
   "metadata": {},
   "outputs": [],
   "source": []
  }
 ],
 "metadata": {
  "kernelspec": {
   "display_name": "Python 3",
   "language": "python",
   "name": "python3"
  },
  "language_info": {
   "codemirror_mode": {
    "name": "ipython",
    "version": 3
   },
   "file_extension": ".py",
   "mimetype": "text/x-python",
   "name": "python",
   "nbconvert_exporter": "python",
   "pygments_lexer": "ipython3",
   "version": "3.7.1"
  }
 },
 "nbformat": 4,
 "nbformat_minor": 1
}
