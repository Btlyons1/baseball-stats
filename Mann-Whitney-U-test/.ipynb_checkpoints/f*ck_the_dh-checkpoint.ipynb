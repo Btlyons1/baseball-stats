{
 "cells": [
  {
   "cell_type": "code",
   "execution_count": null,
   "metadata": {
    "collapsed": true
   },
   "outputs": [],
   "source": [
    "# Import libraries\n",
    "import pandas as pd\n",
    "import numpy as np\n",
    "from sklearn import linear_model\n",
    "from scipy import stats\n",
    "import matplotlib.pyplot as plt\n",
    "%matplotlib inline\n"
   ]
  },
  {
   "cell_type": "code",
   "execution_count": null,
   "metadata": {},
   "outputs": [],
   "source": [
    "'''\n",
    "We will use one specific statistical significance test, the Mann-Whitney U test,\n",
    "to determine whether there is a significant difference between the runs scored \n",
    "per game in the American League (AL) and National League (NL) over the period 2011-2016\n",
    "\n",
    "it is a common assumption among baseball fans that AL games produce more runs because the \n",
    "pitcher does not have to bat. We will put this assumption to a statistical test.\n",
    "\n",
    "'''\n",
    "\n",
    "# Path to data files\n",
    "fp = \"gl2010_17/\"\n",
    "\n"
   ]
  }
 ],
 "metadata": {
  "kernelspec": {
   "display_name": "Python 3",
   "language": "python",
   "name": "python3"
  },
  "language_info": {
   "codemirror_mode": {
    "name": "ipython",
    "version": 3
   },
   "file_extension": ".py",
   "mimetype": "text/x-python",
   "name": "python",
   "nbconvert_exporter": "python",
   "pygments_lexer": "ipython3",
   "version": "3.7.1"
  }
 },
 "nbformat": 4,
 "nbformat_minor": 1
}
